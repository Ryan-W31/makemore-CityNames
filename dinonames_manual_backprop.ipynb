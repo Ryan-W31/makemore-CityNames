{
 "cells": [
  {
   "cell_type": "code",
   "execution_count": 1,
   "id": "170d1007",
   "metadata": {},
   "outputs": [],
   "source": [
    "import pandas as pd\n",
    "import random\n",
    "import torch\n",
    "import torch.nn.functional as F\n",
    "import matplotlib.pyplot as plt\n",
    "%matplotlib inline"
   ]
  },
  {
   "cell_type": "markdown",
   "id": "582b823c",
   "metadata": {},
   "source": [
    "# Dataset Exploration and Modification"
   ]
  },
  {
   "cell_type": "code",
   "execution_count": 2,
   "id": "15bcf213",
   "metadata": {},
   "outputs": [
    {
     "data": {
      "text/plain": [
       "['xinjiangovenator',\n",
       " 'deinocheirus',\n",
       " 'amargatitanis',\n",
       " 'dryptosauroides',\n",
       " 'leaellynasaura']"
      ]
     },
     "execution_count": 2,
     "metadata": {},
     "output_type": "execute_result"
    }
   ],
   "source": [
    "dinosaur_csv = pd.read_csv(\"dinosaur.csv\")\n",
    "dinosaurs = dinosaur_csv['Name'].tolist()\n",
    "dinosaurs = [d.lower().strip() for d in dinosaurs]\n",
    "random.shuffle(dinosaurs)\n",
    "dinosaurs[:5]"
   ]
  },
  {
   "cell_type": "code",
   "execution_count": 5,
   "id": "e40e9f31",
   "metadata": {},
   "outputs": [
    {
     "name": "stdout",
     "output_type": "stream",
     "text": [
      "27\n",
      "stoi:  {'a': 1, 'b': 2, 'c': 3, 'd': 4, 'e': 5, 'f': 6, 'g': 7, 'h': 8, 'i': 9, 'j': 10, 'k': 11, 'l': 12, 'm': 13, 'n': 14, 'o': 15, 'p': 16, 'q': 17, 'r': 18, 's': 19, 't': 20, 'u': 21, 'v': 22, 'w': 23, 'x': 24, 'y': 25, 'z': 26, '.': 0}\n",
      "itos:  {1: 'a', 2: 'b', 3: 'c', 4: 'd', 5: 'e', 6: 'f', 7: 'g', 8: 'h', 9: 'i', 10: 'j', 11: 'k', 12: 'l', 13: 'm', 14: 'n', 15: 'o', 16: 'p', 17: 'q', 18: 'r', 19: 's', 20: 't', 21: 'u', 22: 'v', 23: 'w', 24: 'x', 25: 'y', 26: 'z', 0: '.'}\n"
     ]
    }
   ],
   "source": [
    "chars = sorted(list(set(''.join(dinosaurs)))) # sort letter alphabetically with no repeating letters\n",
    "stoi = {s:i+1 for i, s in enumerate(chars)} # create a mapping of chars to integers\n",
    "stoi['.'] = 0 # add special start and end character\n",
    "\n",
    "itos = {i:s for s,i in stoi.items()} # create a integer to char mapping\n",
    "\n",
    "vocab_size = len(itos)\n",
    "print(vocab_size)\n",
    "print(\"stoi: \",  stoi)\n",
    "print(\"itos: \", itos)"
   ]
  },
  {
   "cell_type": "markdown",
   "id": "346e0899",
   "metadata": {},
   "source": [
    "# Dataset Initialization and Splitting"
   ]
  },
  {
   "cell_type": "code",
   "execution_count": 7,
   "id": "df490ba8",
   "metadata": {},
   "outputs": [
    {
     "name": "stdout",
     "output_type": "stream",
     "text": [
      "TRAIN:  torch.Size([11888, 3]) torch.Size([11888])\n",
      "DEV:  torch.Size([1451, 3]) torch.Size([1451])\n",
      "TEST:  torch.Size([1517, 3]) torch.Size([1517])\n"
     ]
    }
   ],
   "source": [
    "# for reproducibility\n",
    "g = torch.Generator().manual_seed(42)\n",
    "\n",
    "# dataset splitting into train(80%), dev/validation(10%), test(10%)\n",
    "# train is used to train parameters\n",
    "# dev/validation is used to train hyperparameters\n",
    "# test is used to evaluate the model\n",
    "train, dev, test = torch.utils.data.random_split(dinosaurs, [0.8, 0.1, 0.1], generator=g)\n",
    "\n",
    "block_size = 3 # number of characters needed to predict the next one\n",
    "\n",
    "# function to create inputs and outputs from dataset\n",
    "def build_dataset(dataset):\n",
    "    X, Y = [], []\n",
    "    for d in dataset:\n",
    "        context = [0] * block_size # create context 'window'\n",
    "        for char in d + '.':\n",
    "            idx = stoi[char] # get current character index\n",
    "\n",
    "            X.append(context) # add current context to inputs\n",
    "            Y.append(idx) # add current index to label\n",
    "            context = context[1:] + [idx] # slide context 'window'\n",
    "            \n",
    "    X = torch.tensor(X)\n",
    "    Y = torch.tensor(Y)\n",
    "    return X,Y\n",
    "    \n",
    "\n",
    "# defining training inputs and labels\n",
    "Xtr, Ytr = build_dataset(train)\n",
    "print(\"TRAIN: \", Xtr.shape, Ytr.shape)\n",
    "\n",
    "# defining validation inputs and labels\n",
    "Xdev, Ydev = build_dataset(dev)\n",
    "print(\"DEV: \", Xdev.shape, Ydev.shape)\n",
    "\n",
    "# defining test inputs and labels\n",
    "Xte, Yte = build_dataset(test)\n",
    "print(\"TEST: \", Xte.shape, Yte.shape)"
   ]
  },
  {
   "cell_type": "markdown",
   "id": "69d387be",
   "metadata": {},
   "source": [
    "# Compare Gradients"
   ]
  },
  {
   "cell_type": "code",
   "execution_count": 8,
   "id": "b4feabba",
   "metadata": {},
   "outputs": [],
   "source": [
    "# utility function to compare manual gradients to PyTorch gradients\n",
    "\n",
    "def cmp(s, dt, t): # dt are manual gradients; t.grad are PyTorch gradients\n",
    "    \n",
    "    ex = torch.all(dt == t.grad).item() # tensor that evaluates to true if the gradients are equal\n",
    "    \n",
    "    app = torch.allclose(dt, t.grad) # tensor that evaluates to true if the gradients are within 1e-05 to 1e-08\n",
    "    \n",
    "    maxdiff = (dt - t.grad).abs().max().item() # calculates the maximum difference between the gradients\n",
    "    \n",
    "    print(f'{s:15s} | exact: {str(ex):5s} | approximate: {str(app):5s} | maxdiff: {maxdiff}')"
   ]
  },
  {
   "cell_type": "markdown",
   "id": "d44de2dd",
   "metadata": {},
   "source": [
    "# Initialize Model"
   ]
  },
  {
   "cell_type": "code",
   "execution_count": 9,
   "id": "64927cf8",
   "metadata": {},
   "outputs": [
    {
     "name": "stdout",
     "output_type": "stream",
     "text": [
      "# of parameters:  4137\n"
     ]
    }
   ],
   "source": [
    "n_embed = 10 # dimensionality of charcter embedding vectors\n",
    "n_hidden = 64 # number of neurons in each hidden layer\n",
    "\n",
    "C = torch.randn((vocab_size, n_embed),             generator=g) # create a lookup table\n",
    "\n",
    "# layer 1\n",
    "W1 = torch.randn((n_embed * block_size ,n_hidden), generator=g) * (5/3) / ((n_embed * block_size)**0.5) # weights matrix\n",
    "b1 = torch.randn(n_hidden,                         generator=g) * 0.01 # b1 does nothing because of batch norm\n",
    "\n",
    "# layer 2\n",
    "W2 = torch.randn((n_hidden, vocab_size),           generator=g) * 0.01 # weights matrix\n",
    "b2 = torch.randn(vocab_size,                       generator=g) * 0.01 # bias\n",
    "\n",
    "# batch norm params\n",
    "batchn_gain = torch.randn((1, n_hidden)) * 0.1 + 1.0\n",
    "batchn_bias = torch.randn((1, n_hidden)) * 0.1\n",
    "\n",
    "\n",
    "params = [C,W1,b1,W2,b2,batchn_gain, batchn_bias]\n",
    "\n",
    "print(\"# of parameters: \", sum(p.nelement() for p in params))\n",
    "for p in params:\n",
    "    p.requires_grad = True"
   ]
  },
  {
   "cell_type": "code",
   "execution_count": 10,
   "id": "5601fbd2",
   "metadata": {},
   "outputs": [],
   "source": [
    "batch_size = 32\n",
    "n = batch_size # short variable for convenience\n",
    "idx = torch.randint(0, Xtr.shape[0], (n, ), generator=g)\n",
    "Xb, Yb = Xtr[idx], Ytr[idx] # batch X and Y"
   ]
  },
  {
   "cell_type": "markdown",
   "id": "a7970858",
   "metadata": {},
   "source": [
    "# Expanded Forward Pass "
   ]
  },
  {
   "cell_type": "code",
   "execution_count": 126,
   "id": "f1185fc1",
   "metadata": {},
   "outputs": [
    {
     "data": {
      "text/plain": [
       "3.2855911254882812"
      ]
     },
     "execution_count": 126,
     "metadata": {},
     "output_type": "execute_result"
    }
   ],
   "source": [
    "# forward pass (expanded because of manual backprop)\n",
    "\n",
    "emb = C[Xb] # get character embeddings\n",
    "emb_concat = emb.view(emb.shape[0], -1) # concat vectors\n",
    "\n",
    "# linear layer 1\n",
    "hprebn = emb_concat @ W1 + b1 # hidden layer pre-activation pre-batchnorm\n",
    "\n",
    "# batch norm layer (same as gamma * (x - mean) / (std) + beta)\n",
    "bnmeani = 1 / n * hprebn.sum(0, keepdims=True)\n",
    "bndiff = hprebn - bnmeani\n",
    "bndiff2 = bndiff**2\n",
    "bnvar = 1 / (n - 1) * bndiff2.sum(0, keepdims=True)\n",
    "bnvar_inv = (bnvar + 1e-5)**-0.5\n",
    "bnraw = bndiff * bnvar_inv\n",
    "hpreact = batchn_gain * bnraw + batchn_bias\n",
    "\n",
    "# non-linear activation function\n",
    "h = torch.tanh(hpreact) # hidden layer\n",
    "\n",
    "# linear layer 2\n",
    "logits = h @ W2 + b2 # output layer\n",
    "\n",
    "# cross entropy loss (same as F.cross_entropy(logits, Yb))\n",
    "logit_maxes = logits.max(1, keepdims=True).values\n",
    "norm_logits = logits - logit_maxes # subtract for exp stability. ex: [5, -3, 10] - 10 ==> [-5, -13, 0]\n",
    "counts = norm_logits.exp()\n",
    "counts_sum = counts.sum(1, keepdims=True)\n",
    "counts_sum_inv = counts_sum**-1\n",
    "probs = counts * counts_sum_inv\n",
    "logprobs = probs.log()\n",
    "loss = -logprobs[range(n), Yb].mean()\n",
    "\n",
    "# PyTorch backward pass\n",
    "for p in params:\n",
    "    p.grad = None\n",
    "for t in [ logprobs, probs, counts_sum_inv, counts_sum, counts, norm_logits, logit_maxes, logits, h,\n",
    "           hpreact, bnraw, bnvar_inv, bnvar, bndiff2, bndiff, bnmeani, hprebn, emb_concat, emb]:\n",
    "    t.retain_grad()\n",
    "loss.backward()\n",
    "loss.item()"
   ]
  },
  {
   "cell_type": "markdown",
   "id": "76fa7b0a",
   "metadata": {},
   "source": [
    "# Yay! Manual Backpropogation"
   ]
  },
  {
   "cell_type": "code",
   "execution_count": 133,
   "id": "26e2a7c9",
   "metadata": {},
   "outputs": [
    {
     "name": "stdout",
     "output_type": "stream",
     "text": [
      "logprobs        | exact: True  | approximate: True  | maxdiff: 0.0\n",
      "probs           | exact: True  | approximate: True  | maxdiff: 0.0\n",
      "counts_sum_inv  | exact: True  | approximate: True  | maxdiff: 0.0\n",
      "counts_sum      | exact: True  | approximate: True  | maxdiff: 0.0\n",
      "counts          | exact: True  | approximate: True  | maxdiff: 0.0\n",
      "norm_logits     | exact: True  | approximate: True  | maxdiff: 0.0\n",
      "logit_maxes     | exact: True  | approximate: True  | maxdiff: 0.0\n",
      "logits          | exact: True  | approximate: True  | maxdiff: 0.0\n",
      "h               | exact: True  | approximate: True  | maxdiff: 0.0\n",
      "W2              | exact: True  | approximate: True  | maxdiff: 0.0\n",
      "b2              | exact: True  | approximate: True  | maxdiff: 0.0\n",
      "hpreact         | exact: True  | approximate: True  | maxdiff: 0.0\n",
      "batchn_gain     | exact: True  | approximate: True  | maxdiff: 0.0\n",
      "bnraw           | exact: True  | approximate: True  | maxdiff: 0.0\n",
      "batchn_bias     | exact: True  | approximate: True  | maxdiff: 0.0\n",
      "bnvar_inv       | exact: True  | approximate: True  | maxdiff: 0.0\n",
      "bnvar           | exact: True  | approximate: True  | maxdiff: 0.0\n",
      "bndiff2         | exact: True  | approximate: True  | maxdiff: 0.0\n",
      "bndiff          | exact: True  | approximate: True  | maxdiff: 0.0\n",
      "bnmeani         | exact: True  | approximate: True  | maxdiff: 0.0\n",
      "hprebn          | exact: True  | approximate: True  | maxdiff: 0.0\n",
      "emb_concat      | exact: True  | approximate: True  | maxdiff: 0.0\n",
      "W1              | exact: True  | approximate: True  | maxdiff: 0.0\n",
      "b1              | exact: True  | approximate: True  | maxdiff: 0.0\n",
      "emb             | exact: True  | approximate: True  | maxdiff: 0.0\n",
      "C               | exact: True  | approximate: True  | maxdiff: 0.0\n",
      "yay!\n"
     ]
    }
   ],
   "source": [
    "# backprop through every variable in the forward pass manually\n",
    "\n",
    "# logprobs\n",
    "dlogprobs = torch.zeros_like(logprobs)\n",
    "dlogprobs[range(n), Yb] = -1.0 / n\n",
    "cmp('logprobs', dlogprobs, logprobs)\n",
    "\n",
    "# probs\n",
    "dprobs = (1.0 / probs) * dlogprobs\n",
    "cmp('probs', dprobs, probs)\n",
    "\n",
    "# counts_sum_inv\n",
    "dcounts_sum_inv = (counts * dprobs).sum(1, keepdims=True)\n",
    "dcounts = counts_sum_inv * dprobs\n",
    "cmp('counts_sum_inv', dcounts_sum_inv, counts_sum_inv)\n",
    "\n",
    "# counts_sum\n",
    "dcounts_sum = (-counts_sum**-2) * dcounts_sum_inv\n",
    "cmp('counts_sum', dcounts_sum, counts_sum)\n",
    "\n",
    "# counts\n",
    "dcounts += torch.ones_like(counts) * dcounts_sum\n",
    "cmp(\"counts\", dcounts, counts)\n",
    "\n",
    "# norm_logits\n",
    "dnorm_logits = counts * dcounts\n",
    "dlogits = dnorm_logits.clone()\n",
    "cmp(\"norm_logits\", dnorm_logits, norm_logits)\n",
    "\n",
    "# logit_maxes\n",
    "dlogit_maxes = (-dnorm_logits).sum(1, keepdims=True)\n",
    "cmp('logit_maxes', dlogit_maxes, logit_maxes)\n",
    "\n",
    "# logits (can also use one hot encoding)\n",
    "ones = torch.zeros_like(logits)\n",
    "ones[range(n), logits.max(1).indices] = 1\n",
    "dlogits +=  ones * dlogit_maxes\n",
    "cmp('logits', dlogits, logits)\n",
    "\n",
    "# h, W2, b2\n",
    "dh = dlogits @ W2.T\n",
    "dW2 = h.T @ dlogits\n",
    "db2 = dlogits.sum(0)\n",
    "cmp('h', dh, h)\n",
    "cmp('W2', dW2, W2)\n",
    "cmp('b2', db2, b2)\n",
    "\n",
    "# hpreact\n",
    "dhpreact = (1.0 - h**2) * dh\n",
    "cmp('hpreact', dhpreact, hpreact)\n",
    "\n",
    "# batchn_gain\n",
    "dbatchn_gain = (bnraw * dhpreact).sum(0, keepdims=True)\n",
    "cmp('batchn_gain', dbatchn_gain, batchn_gain)\n",
    "\n",
    "# bnraw\n",
    "dbnraw = batchn_gain * dhpreact\n",
    "cmp('bnraw', dbnraw, bnraw)\n",
    "\n",
    "# batchn_bias\n",
    "dbatchn_bias = dhpreact.sum(0, keepdims=True)\n",
    "cmp('batchn_bias', dbatchn_bias, batchn_bias)\n",
    "\n",
    "# bnvar_inv\n",
    "dbnvar_inv = (bndiff * dbnraw).sum(0, keepdims=True)\n",
    "dbndiff = bnvar_inv * dbnraw \n",
    "cmp('bnvar_inv', dbnvar_inv, bnvar_inv)\n",
    "\n",
    "# bnvar\n",
    "dbnvar = (-0.5 * (bnvar + 1e-5)**-1.5) * dbnvar_inv\n",
    "cmp('bnvar', dbnvar, bnvar)\n",
    "\n",
    "# bndiff2\n",
    "dbndiff2 = (1.0 / (n-1)) * torch.ones_like(bndiff2) * dbnvar\n",
    "cmp('bndiff2', dbndiff2, bndiff2)\n",
    "\n",
    "# bndiff\n",
    "dbndiff += (2 * bndiff) * dbndiff2\n",
    "cmp('bndiff', dbndiff, bndiff)\n",
    "\n",
    "# bnmeani\n",
    "dhprebn = dbndiff.clone()\n",
    "dbnmeani = (-dbndiff).sum(0, keepdims=True)\n",
    "cmp('bnmeani', dbnmeani, bnmeani)\n",
    "\n",
    "# hprebn\n",
    "dhprebn += (1.0 / n) * torch.ones_like(hprebn) * dbnmeani\n",
    "cmp('hprebn', dhprebn, hprebn)\n",
    "\n",
    "# emb_concat, W1, b1\n",
    "demb_concat = dhprebn @ W1.T\n",
    "dW1 = emb_concat.T @ dhprebn\n",
    "db1 = dhprebn.sum(0)\n",
    "cmp('emb_concat', demb_concat, emb_concat)\n",
    "cmp('W1', dW1, W1)\n",
    "cmp('b1', db1, b1)\n",
    "\n",
    "# emb\n",
    "demb = demb_concat.view(emb.shape)\n",
    "cmp('emb', demb, emb)\n",
    "\n",
    "# C\n",
    "dC = torch.zeros_like(C)\n",
    "for k in range(Xb.shape[0]):\n",
    "    for j in range (Xb.shape[1]):\n",
    "        idx = Xb[k,j]\n",
    "        dC[idx] += demb[k,j]\n",
    "cmp('C', dC, C)\n",
    "\n",
    "print(\"yay!\")"
   ]
  },
  {
   "cell_type": "markdown",
   "id": "73c39c7a",
   "metadata": {},
   "source": [
    "### This was way too much! Rather than backpropogating through every single step, lets optimize and do seperate parts of the forward pass"
   ]
  },
  {
   "cell_type": "markdown",
   "id": "51208cef",
   "metadata": {},
   "source": [
    "# Backprop Cross-Entropy"
   ]
  },
  {
   "cell_type": "code",
   "execution_count": null,
   "id": "b1bc9f0f",
   "metadata": {},
   "outputs": [],
   "source": []
  }
 ],
 "metadata": {
  "kernelspec": {
   "display_name": "DinoNames (env)",
   "language": "python",
   "name": "env"
  },
  "language_info": {
   "codemirror_mode": {
    "name": "ipython",
    "version": 3
   },
   "file_extension": ".py",
   "mimetype": "text/x-python",
   "name": "python",
   "nbconvert_exporter": "python",
   "pygments_lexer": "ipython3",
   "version": "3.10.7"
  }
 },
 "nbformat": 4,
 "nbformat_minor": 5
}
