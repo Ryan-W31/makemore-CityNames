{
 "cells": [
  {
   "cell_type": "code",
   "execution_count": 1,
   "id": "cf7f2031",
   "metadata": {},
   "outputs": [],
   "source": [
    "import pandas as pd\n",
    "import random\n",
    "import torch\n",
    "import torch.nn.functional as F\n",
    "import matplotlib.pyplot as plt\n",
    "%matplotlib inline"
   ]
  },
  {
   "cell_type": "markdown",
   "id": "77cc5485",
   "metadata": {},
   "source": [
    "# Dataset Exploration and Modification"
   ]
  },
  {
   "cell_type": "code",
   "execution_count": 2,
   "id": "cd68aa15",
   "metadata": {},
   "outputs": [
    {
     "data": {
      "text/plain": [
       "['edmonton', 'cheyenne wells', 'jack', 'new gloucester', 'rhinehart']"
      ]
     },
     "execution_count": 2,
     "metadata": {},
     "output_type": "execute_result"
    }
   ],
   "source": [
    "# read in us-city-place-names.csv and modify input so that the list only contains lowercase city names with no whitespace\n",
    "cityname_csv = pd.read_csv('us-city-place-names.csv')\n",
    "citynames = cityname_csv['city'].tolist()\n",
    "citynames = [d.lower().strip() for d in citynames]\n",
    "random.shuffle(citynames)\n",
    "citynames[:5]"
   ]
  },
  {
   "cell_type": "code",
   "execution_count": 3,
   "id": "cbc18615",
   "metadata": {},
   "outputs": [
    {
     "data": {
      "text/plain": [
       "24375"
      ]
     },
     "execution_count": 3,
     "metadata": {},
     "output_type": "execute_result"
    }
   ],
   "source": [
    "len(citynames) # number of city names"
   ]
  },
  {
   "cell_type": "code",
   "execution_count": 4,
   "id": "deb99926",
   "metadata": {},
   "outputs": [
    {
     "name": "stdout",
     "output_type": "stream",
     "text": [
      "28\n",
      "stoi:  {' ': 1, 'a': 2, 'b': 3, 'c': 4, 'd': 5, 'e': 6, 'f': 7, 'g': 8, 'h': 9, 'i': 10, 'j': 11, 'k': 12, 'l': 13, 'm': 14, 'n': 15, 'o': 16, 'p': 17, 'q': 18, 'r': 19, 's': 20, 't': 21, 'u': 22, 'v': 23, 'w': 24, 'x': 25, 'y': 26, 'z': 27, '.': 0}\n",
      "itos:  {1: ' ', 2: 'a', 3: 'b', 4: 'c', 5: 'd', 6: 'e', 7: 'f', 8: 'g', 9: 'h', 10: 'i', 11: 'j', 12: 'k', 13: 'l', 14: 'm', 15: 'n', 16: 'o', 17: 'p', 18: 'q', 19: 'r', 20: 's', 21: 't', 22: 'u', 23: 'v', 24: 'w', 25: 'x', 26: 'y', 27: 'z', 0: '.'}\n"
     ]
    }
   ],
   "source": [
    "chars = sorted(list(set(''.join(citynames)))) # sort letter alphabetically with no repeating letters\n",
    "stoi = {s:i+1 for i, s in enumerate(chars)} # create a mapping of chars to integers\n",
    "stoi['.'] = 0 # add special start and end character\n",
    "\n",
    "itos = {i:s for s,i in stoi.items()} # create a integer to char mapping\n",
    "vocab_size = len(itos)\n",
    "print(vocab_size)\n",
    "print(\"stoi: \",  stoi)\n",
    "print(\"itos: \", itos)"
   ]
  },
  {
   "cell_type": "code",
   "execution_count": 25,
   "id": "0ce2ced4",
   "metadata": {},
   "outputs": [
    {
     "name": "stdout",
     "output_type": "stream",
     "text": [
      "TRAIN:  torch.Size([223968, 8]) torch.Size([223968])\n",
      "DEV:  torch.Size([28141, 8]) torch.Size([28141])\n",
      "TEST:  torch.Size([28127, 8]) torch.Size([28127])\n"
     ]
    }
   ],
   "source": [
    "# dataset splitting into train(80%), dev/validation(10%), test(10%)\n",
    "# train is used to train parameters\n",
    "# dev/validation is used to train hyperparameters\n",
    "# test is used to evaluate the model\n",
    "\n",
    "g = torch.Generator().manual_seed(42)\n",
    "train, dev, test = torch.utils.data.random_split(citynames, [0.8, 0.1, 0.1], generator=g)\n",
    "\n",
    "block_size = 8\n",
    "\n",
    "# function to create inputs and outputs from dataset\n",
    "def build_dataset(dataset):\n",
    "    X, Y = [], []\n",
    "    for d in dataset:\n",
    "        context = [0] * block_size # create context 'window'\n",
    "        for char in d + '.':\n",
    "            idx = stoi[char] # get current character index\n",
    "\n",
    "            X.append(context) # add current context to inputs\n",
    "            Y.append(idx) # add current index to label\n",
    "            context = context[1:] + [idx] # slide context 'window'\n",
    "            \n",
    "    X = torch.tensor(X)\n",
    "    Y = torch.tensor(Y)\n",
    "    return X,Y\n",
    "    \n",
    "\n",
    "# defining training inputs and labels\n",
    "Xtr, Ytr = build_dataset(train)\n",
    "print(\"TRAIN: \", Xtr.shape, Ytr.shape)\n",
    "\n",
    "# defining validation inputs and labels\n",
    "Xdev, Ydev = build_dataset(dev)\n",
    "print(\"DEV: \", Xdev.shape, Ydev.shape)\n",
    "\n",
    "# defining test inputs and labels\n",
    "Xte, Yte = build_dataset(test)\n",
    "print(\"TEST: \", Xte.shape, Yte.shape)"
   ]
  },
  {
   "cell_type": "code",
   "execution_count": 26,
   "id": "af72ef27",
   "metadata": {},
   "outputs": [
    {
     "name": "stdout",
     "output_type": "stream",
     "text": [
      "........ ===> l\n",
      ".......l ===> a\n",
      "......la ===> v\n",
      ".....lav ===> e\n",
      "....lave ===> r\n",
      "...laver ===> n\n",
      "..lavern ===> e\n",
      ".laverne ===> .\n",
      "........ ===> l\n",
      ".......l ===> i\n",
      "......li ===> l\n",
      ".....lil ===> y\n",
      "....lily ===> .\n",
      "........ ===> l\n",
      ".......l ===> a\n",
      "......la ===> d\n",
      ".....lad ===> o\n",
      "....lado ===> r\n",
      "...lador ===> a\n",
      "..ladora ===> .\n"
     ]
    }
   ],
   "source": [
    "for x,y in zip(Xtr[:20], Ytr[:20]):\n",
    "    print(''.join(itos[ix.item()] for ix in x), '===>', itos[y.item()])"
   ]
  },
  {
   "cell_type": "markdown",
   "id": "fba6fde6",
   "metadata": {},
   "source": [
    "# PyTorch-ified Layers"
   ]
  },
  {
   "cell_type": "code",
   "execution_count": 51,
   "id": "f4b9484b",
   "metadata": {},
   "outputs": [],
   "source": [
    "# linear layer\n",
    "# -----------------------------------------------------------------------------\n",
    "class Linear:\n",
    "    \n",
    "    # initialize weight and bias (if bias is set to True)\n",
    "    def __init__(self, fan_in, fan_out, bias=True):\n",
    "        self.weight = torch.randn((fan_in, fan_out)) / fan_in**0.5 # using kaiming init\n",
    "        self.bias = torch.zeros(fan_out) if bias else None\n",
    "        \n",
    "    # when module is called, Wx + b will occur\n",
    "    def __call__(self, x):\n",
    "        self.out = x @ self.weight\n",
    "        if self.bias is not None:\n",
    "            self.out += self.bias\n",
    "        return self.out\n",
    "    \n",
    "    # function to return weight and bias tensors\n",
    "    def parameters(self):\n",
    "        return [self.weight] + ([] if self.bias is None else [self.bias])\n",
    "# -----------------------------------------------------------------------------\n",
    "\n",
    "\n",
    "# 1 dimensional batch normalization layer\n",
    "# -----------------------------------------------------------------------------\n",
    "class BatchNorm1d:\n",
    "    \n",
    "    # initialize batch norm parameters\n",
    "    def __init__(self, dim, eps=1e-5, momentum=0.1):\n",
    "        self.eps = eps\n",
    "        self.momentum = momentum\n",
    "        self.training = True\n",
    "        \n",
    "        # backprop parameters\n",
    "        self.gamma = torch.ones(dim)\n",
    "        self.beta = torch.zeros(dim)\n",
    "        \n",
    "        # buffers (running mean and std that trains with momentum)\n",
    "        self.running_mean = torch.zeros(dim)\n",
    "        self.running_var = torch.ones(dim)\n",
    "        \n",
    "    # when module is called, batch norm will occur\n",
    "    def __call__(self, x):\n",
    "        \n",
    "        # if training then take the batch mean and variance\n",
    "        if self.training:\n",
    "            if x.ndim == 2:\n",
    "                dim = 0\n",
    "            elif x.ndim == 3:\n",
    "                dim = (0, 1)\n",
    "            xmean = x.mean(dim, keepdim=True)\n",
    "            xvar = x.var(dim, keepdim=True)\n",
    "        # otherwise take the mean and variance over the whole dataset\n",
    "        else:\n",
    "            xmean = self.running_mean\n",
    "            xvar = self.running_var\n",
    "        \n",
    "        # calculate normalization\n",
    "        xhat = (x - xmean) / torch.sqrt(xvar + self.eps)\n",
    "        \n",
    "        # adjust normalization using gamma and beta\n",
    "        self.out = self.gamma * xhat + self.beta\n",
    "        \n",
    "        # if training update buffers\n",
    "        if self.training:\n",
    "            with torch.no_grad():\n",
    "                self.running_mean = (1 - self.momentum) * self.running_mean + self.momentum * xmean\n",
    "                self.running_var = (1 - self.momentum) * self.running_var + self.momentum * xvar\n",
    "                \n",
    "        return self.out\n",
    "    \n",
    "    # get batch norm gain and bias\n",
    "    def parameters(self):\n",
    "        return [self.gamma, self.beta]\n",
    "# -----------------------------------------------------------------------------\n",
    "\n",
    "# non-linear tanh activation function\n",
    "# -----------------------------------------------------------------------------\n",
    "class Tanh:\n",
    "    \n",
    "    # when module is called, a tanh function will occur\n",
    "    def __call__(self, x):\n",
    "        self.out = torch.tanh(x)\n",
    "        return self.out\n",
    "    \n",
    "    # tanh has no parameters so none are returned\n",
    "    def parameters(self):\n",
    "        return []\n",
    "# -----------------------------------------------------------------------------\n",
    "\n",
    "# character embedding layer\n",
    "# -----------------------------------------------------------------------------\n",
    "class Embedding:\n",
    "    \n",
    "    #initalize embedding parameters\n",
    "    def __init__(self, num_embeddings, embedding_dim):\n",
    "        self.weight = torch.randn((num_embeddings, embedding_dim))\n",
    "    \n",
    "    # when this module is called, character embedding will occur\n",
    "    def __call__(self, IX):\n",
    "        self.out = self.weight[IX]\n",
    "        return self.out\n",
    "    \n",
    "    # returns all parameters\n",
    "    def parameters(self):\n",
    "        return [self.weight]\n",
    "# -----------------------------------------------------------------------------\n",
    "\n",
    "# flattening (concatenation) layer\n",
    "# -----------------------------------------------------------------------------\n",
    "class FlattenConsecutive:\n",
    "    # when this module is called, concatenation will occur\n",
    "    def __init__(self, n):\n",
    "        self.n = n\n",
    "        \n",
    "    def __call__(self, x):\n",
    "        B, T, C = x.shape\n",
    "        x = x.view(B, T//self.n, C*self.n)\n",
    "        if x.shape[1] == 1:\n",
    "            x = x.squeeze(1)\n",
    "            \n",
    "        self.out = x\n",
    "        return self.out\n",
    "    \n",
    "    # no parameters are returned\n",
    "    def parameters(self):\n",
    "        return []\n",
    "# -----------------------------------------------------------------------------\n",
    "\n",
    "# creating a sequence of layers\n",
    "# -----------------------------------------------------------------------------\n",
    "class Sequential:\n",
    "    def __init__(self, layers):\n",
    "        self.layers = layers\n",
    "    \n",
    "    def __call__(self, x):\n",
    "        for layer in self.layers:\n",
    "            x = layer(x)\n",
    "        self.out = x\n",
    "        return self.out\n",
    "    \n",
    "    def parameters(self):\n",
    "        return [p for layer in self.layers for p in layer.parameters()]"
   ]
  },
  {
   "cell_type": "code",
   "execution_count": 52,
   "id": "2f7111e9",
   "metadata": {},
   "outputs": [
    {
     "data": {
      "text/plain": [
       "<torch._C.Generator at 0x11c466ff0>"
      ]
     },
     "execution_count": 52,
     "metadata": {},
     "output_type": "execute_result"
    }
   ],
   "source": [
    "torch.manual_seed(42) # global rng seed"
   ]
  },
  {
   "cell_type": "code",
   "execution_count": 53,
   "id": "a619cc08",
   "metadata": {},
   "outputs": [
    {
     "name": "stdout",
     "output_type": "stream",
     "text": [
      "# of parameters: 22476\n"
     ]
    }
   ],
   "source": [
    "n_embed = 10 # dimensionality of character embedding vectors\n",
    "n_hidden = 68 # number of neurons in hidden layer\n",
    "\n",
    "# layers of the MLP network\n",
    "model = Sequential([\n",
    "    Embedding(vocab_size, n_embed),\n",
    "    FlattenConsecutive(2), Linear(n_embed * 2, n_hidden, bias=False), BatchNorm1d(n_hidden), Tanh(),\n",
    "    FlattenConsecutive(2), Linear(n_hidden * 2, n_hidden, bias=False), BatchNorm1d(n_hidden), Tanh(),\n",
    "    FlattenConsecutive(2), Linear(n_hidden * 2, n_hidden, bias=False), BatchNorm1d(n_hidden), Tanh(),\n",
    "    Linear(n_hidden, vocab_size),\n",
    "])\n",
    "\n",
    "with torch.no_grad():\n",
    "    # last layer: make less confident\n",
    "    model.layers[-1].weight *= 0.1\n",
    "\n",
    "parameters = model.parameters()\n",
    "# get all parameters (double list comprehension)\n",
    "print(f'# of parameters: {sum(p.nelement() for p in parameters)}')\n",
    "for p in parameters:\n",
    "    p.requires_grad = True"
   ]
  },
  {
   "cell_type": "code",
   "execution_count": 54,
   "id": "977d66d4",
   "metadata": {},
   "outputs": [
    {
     "name": "stdout",
     "output_type": "stream",
     "text": [
      "0/200000: 3.3335\n",
      "10000/200000: 1.3853\n",
      "20000/200000: 1.4739\n",
      "30000/200000: 1.7472\n",
      "40000/200000: 2.0099\n",
      "50000/200000: 2.1858\n",
      "60000/200000: 1.9459\n",
      "70000/200000: 1.5834\n",
      "80000/200000: 1.6092\n",
      "90000/200000: 1.7284\n",
      "100000/200000: 1.5204\n",
      "110000/200000: 1.6436\n",
      "120000/200000: 1.6449\n",
      "130000/200000: 1.4313\n",
      "140000/200000: 1.4437\n",
      "150000/200000: 1.4755\n",
      "160000/200000: 1.9264\n",
      "170000/200000: 1.6235\n",
      "180000/200000: 2.0889\n",
      "190000/200000: 1.9598\n"
     ]
    }
   ],
   "source": [
    "batch_size = 32\n",
    "max_steps=200000\n",
    "lossi=[]\n",
    "\n",
    "for i in range(max_steps):\n",
    "    \n",
    "    # create mini-batch\n",
    "    idx = torch.randint(0, Xtr.shape[0], (batch_size,))\n",
    "    Xb, Yb = Xtr[idx], Ytr[idx]\n",
    "    \n",
    "    # forward pass\n",
    "    logits = model(Xb)\n",
    "    loss = F.cross_entropy(logits, Yb)\n",
    "\n",
    "    # backward pass\n",
    "    for p in parameters:\n",
    "        p.grad = None\n",
    "    loss.backward()\n",
    "    \n",
    "    # update\n",
    "    lr = 0.1 if i < (150000) else 0.01 # learning rate decay\n",
    "    for p in parameters:\n",
    "        p.data +=  -lr * p.grad\n",
    "        \n",
    "    # track stats\n",
    "    if i % 10000 == 0:\n",
    "        print(f'{i}/{max_steps}: {loss.item():.4f}')\n",
    "    lossi.append(loss.log10().item())"
   ]
  },
  {
   "cell_type": "code",
   "execution_count": 55,
   "id": "b3b59673",
   "metadata": {},
   "outputs": [
    {
     "name": "stdout",
     "output_type": "stream",
     "text": [
      "Embedding : (32, 8, 10)\n",
      "FlattenConsecutive : (32, 4, 20)\n",
      "Linear : (32, 4, 68)\n",
      "BatchNorm1d : (32, 4, 68)\n",
      "Tanh : (32, 4, 68)\n",
      "FlattenConsecutive : (32, 2, 136)\n",
      "Linear : (32, 2, 68)\n",
      "BatchNorm1d : (32, 2, 68)\n",
      "Tanh : (32, 2, 68)\n",
      "FlattenConsecutive : (32, 136)\n",
      "Linear : (32, 68)\n",
      "BatchNorm1d : (32, 68)\n",
      "Tanh : (32, 68)\n",
      "Linear : (32, 28)\n"
     ]
    }
   ],
   "source": [
    "for layer in model.layers:\n",
    "    print(layer.__class__.__name__, \":\", tuple(layer.out.shape))"
   ]
  },
  {
   "cell_type": "code",
   "execution_count": 56,
   "id": "82bbdfa6",
   "metadata": {
    "scrolled": false
   },
   "outputs": [
    {
     "data": {
      "text/plain": [
       "[<matplotlib.lines.Line2D at 0x122b325f0>]"
      ]
     },
     "execution_count": 56,
     "metadata": {},
     "output_type": "execute_result"
    },
    {
     "data": {
      "image/png": "[encoded data removed]",
      "text/plain": [
       "<Figure size 640x480 with 1 Axes>"
      ]
     },
     "metadata": {},
     "output_type": "display_data"
    }
   ],
   "source": [
    "plt.plot(torch.tensor(lossi).view(-1,1000).mean(1))"
   ]
  },
  {
   "cell_type": "code",
   "execution_count": 57,
   "id": "fe5023f3",
   "metadata": {},
   "outputs": [],
   "source": [
    "for layer in model.layers:\n",
    "    layer.training = False"
   ]
  },
  {
   "cell_type": "code",
   "execution_count": 58,
   "id": "5052b848",
   "metadata": {},
   "outputs": [
    {
     "name": "stdout",
     "output_type": "stream",
     "text": [
      "train loss: 1.5660825967788696\n",
      "dev loss: 1.660597562789917\n"
     ]
    }
   ],
   "source": [
    "@torch.no_grad()\n",
    "def dataset_loss(dataset):\n",
    "    x, y = {\n",
    "        'train': (Xtr, Ytr),\n",
    "        'dev': (Xdev, Ydev),\n",
    "        'test': (Xte, Yte),\n",
    "    }[dataset]\n",
    "    \n",
    "    logits = model(x)\n",
    "    loss = F.cross_entropy(logits, y) # use cross entropy as loss function\n",
    "    print(f'{dataset} loss: {loss.item()}')\n",
    "\n",
    "dataset_loss('train')\n",
    "dataset_loss('dev')"
   ]
  },
  {
   "cell_type": "markdown",
   "id": "ca076083",
   "metadata": {},
   "source": [
    "### Performance Log"
   ]
  },
  {
   "cell_type": "markdown",
   "id": "0fed134c",
   "metadata": {},
   "source": [
    "Original: (block size: 3, 200 hidden neurons, 12.3k parameters) train: 1.74, dev: 1.78\n",
    "- block size: 3 --> 8 (22.4k parameters) train: 1.58, dev: 1.68\n",
    "- flat ---> hierarchical(22.4k parameters) train: 1.59, dev: 1.67\n",
    "- fix bug in batch norm --> (22.4k parameters) train: 1.56, dev: 1.66"
   ]
  },
  {
   "cell_type": "code",
   "execution_count": 70,
   "id": "20c2524b",
   "metadata": {},
   "outputs": [
    {
     "name": "stdout",
     "output_type": "stream",
     "text": [
      "arbury.\n",
      "chrville.\n",
      "dooran point.\n",
      "multon village.\n",
      "venen.\n"
     ]
    }
   ],
   "source": [
    "# sample from model\n",
    "for _ in range(5):\n",
    "    out = [] # output array\n",
    "    context = [0] * block_size # context 'window'\n",
    "    \n",
    "    while True:\n",
    "        logits = model(torch.tensor([context]))\n",
    "        probs = F.softmax(logits, dim=1)\n",
    "        idx = torch.multinomial(probs, num_samples=1).item() # get next predicted letter\n",
    "        context = context[1:] + [idx] # slide the context 'window'\n",
    "        out.append(idx) # append the new letter to the output\n",
    "        \n",
    "        # if the character is '.' then end the word\n",
    "        if idx == 0:\n",
    "            break\n",
    "    \n",
    "    print(''.join(itos[i] for i in out))"
   ]
  },
  {
   "cell_type": "code",
   "execution_count": null,
   "id": "89fd4208",
   "metadata": {},
   "outputs": [],
   "source": []
  }
 ],
 "metadata": {
  "kernelspec": {
   "display_name": "makemore (env)",
   "language": "python",
   "name": "env"
  },
  "language_info": {
   "codemirror_mode": {
    "name": "ipython",
    "version": 3
   },
   "file_extension": ".py",
   "mimetype": "text/x-python",
   "name": "python",
   "nbconvert_exporter": "python",
   "pygments_lexer": "ipython3",
   "version": "3.10.7"
  }
 },
 "nbformat": 4,
 "nbformat_minor": 5
}
