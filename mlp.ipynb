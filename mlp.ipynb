{
 "cells": [
  {
   "cell_type": "code",
   "execution_count": 102,
   "id": "2bc9b1e1",
   "metadata": {},
   "outputs": [],
   "source": [
    "import pandas as pd\n",
    "import numpy as np\n",
    "import random\n",
    "import torch\n",
    "import torch.nn.functional as F\n",
    "import matplotlib.pyplot as plt\n",
    "%matplotlib inline"
   ]
  },
  {
   "cell_type": "markdown",
   "id": "d8bc028c",
   "metadata": {},
   "source": [
    "# Dataset Exploration and Modification"
   ]
  },
  {
   "cell_type": "code",
   "execution_count": 104,
   "id": "5b3daf55",
   "metadata": {},
   "outputs": [
    {
     "data": {
      "text/plain": [
       "['angaturama',\n",
       " 'crichtonsaurus',\n",
       " 'turanoceratops',\n",
       " 'philovenator',\n",
       " 'sinocoelurus']"
      ]
     },
     "execution_count": 104,
     "metadata": {},
     "output_type": "execute_result"
    }
   ],
   "source": [
    "# read in dinosaur.csv and modify input so that the list only contains lowercase dinosaur names with no whitespace\n",
    "dinosaur_csv = pd.read_csv('dinosaur.csv')\n",
    "dinosaurs = dinosaur_csv['Name'].tolist()\n",
    "dinosaurs = [d.lower().strip() for d in dinosaurs]\n",
    "random.shuffle(dinosaurs)\n",
    "dinosaurs[:5]"
   ]
  },
  {
   "cell_type": "code",
   "execution_count": 105,
   "id": "6b471e73",
   "metadata": {},
   "outputs": [
    {
     "data": {
      "text/plain": [
       "1152"
      ]
     },
     "execution_count": 105,
     "metadata": {},
     "output_type": "execute_result"
    }
   ],
   "source": [
    "len(dinosaurs) # number of dinosaur names"
   ]
  },
  {
   "cell_type": "code",
   "execution_count": 106,
   "id": "77fcd9d6",
   "metadata": {},
   "outputs": [
    {
     "name": "stdout",
     "output_type": "stream",
     "text": [
      "stoi:  {'a': 1, 'b': 2, 'c': 3, 'd': 4, 'e': 5, 'f': 6, 'g': 7, 'h': 8, 'i': 9, 'j': 10, 'k': 11, 'l': 12, 'm': 13, 'n': 14, 'o': 15, 'p': 16, 'q': 17, 'r': 18, 's': 19, 't': 20, 'u': 21, 'v': 22, 'w': 23, 'x': 24, 'y': 25, 'z': 26, '.': 0}\n",
      "itos:  {1: 'a', 2: 'b', 3: 'c', 4: 'd', 5: 'e', 6: 'f', 7: 'g', 8: 'h', 9: 'i', 10: 'j', 11: 'k', 12: 'l', 13: 'm', 14: 'n', 15: 'o', 16: 'p', 17: 'q', 18: 'r', 19: 's', 20: 't', 21: 'u', 22: 'v', 23: 'w', 24: 'x', 25: 'y', 26: 'z', 0: '.'}\n"
     ]
    }
   ],
   "source": [
    "chars = sorted(list(set(''.join(dinosaurs)))) # sort letter alphabetically with no repeating letters\n",
    "stoi = {s:i+1 for i, s in enumerate(chars)} # create a mapping of chars to integers\n",
    "stoi['.'] = 0 # add special start and end character\n",
    "\n",
    "itos = {i:s for s,i in stoi.items()} # create a integer to char mapping\n",
    "\n",
    "print(\"stoi: \",  stoi)\n",
    "print(\"itos: \", itos)"
   ]
  },
  {
   "cell_type": "markdown",
   "id": "6237a3c3",
   "metadata": {},
   "source": [
    "# Multi-Layer Perceptron (MLP) Implementation"
   ]
  },
  {
   "cell_type": "code",
   "execution_count": 107,
   "id": "2d667ee5",
   "metadata": {},
   "outputs": [],
   "source": [
    "# create the dataset\n",
    "\n",
    "block_size = 3 # characters needed to predict one\n",
    "X, Y = [], [] # initialize input and label arrays\n",
    "\n",
    "for d in dinosaurs:\n",
    "    context = [0] * block_size # create context 'window'\n",
    "    for char in d + '.':\n",
    "        idx = stoi[char] # get current character index\n",
    "        \n",
    "        X.append(context) # add current context to inputs\n",
    "        Y.append(idx) # add current index to label\n",
    "        context = context[1:] + [idx] # slide context 'window'\n",
    "        \n",
    "X = torch.tensor(X)\n",
    "Y = torch.tensor(Y)"
   ]
  },
  {
   "cell_type": "code",
   "execution_count": 108,
   "id": "090f86a7",
   "metadata": {},
   "outputs": [
    {
     "data": {
      "text/plain": [
       "(torch.Size([14856, 3]), torch.int64, torch.Size([14856]), torch.int64)"
      ]
     },
     "execution_count": 108,
     "metadata": {},
     "output_type": "execute_result"
    }
   ],
   "source": [
    "X.shape, X.dtype, Y.shape, Y.dtype"
   ]
  },
  {
   "cell_type": "code",
   "execution_count": 150,
   "id": "6a2ea43f",
   "metadata": {},
   "outputs": [
    {
     "name": "stdout",
     "output_type": "stream",
     "text": [
      "# of parameters:  3481\n"
     ]
    }
   ],
   "source": [
    "g = torch.Generator().manual_seed(42) # create a generator object for reproducability\n",
    "\n",
    "C = torch.randn((27,2), generator=g) # create a lookup table\n",
    "\n",
    "W1 = torch.randn((6,100), generator=g) # first weights matrix (6 inputs, 100 outputs)\n",
    "b1 = torch.randn(100, generator=g) # first bias\n",
    "\n",
    "W2 = torch.randn((100,27), generator=g) # second weights matrix (100 inputs, 27 outputs)\n",
    "b2 = torch.randn(27, generator=g) # second bias\n",
    "\n",
    "params = [C,W1,b1,W2,b2]\n",
    "print(\"# of parameters: \", sum(p.nelement() for p in params))"
   ]
  },
  {
   "cell_type": "code",
   "execution_count": 151,
   "id": "0b7cee09",
   "metadata": {},
   "outputs": [],
   "source": [
    "for p in params:\n",
    "    p.requires_grad = True"
   ]
  },
  {
   "cell_type": "code",
   "execution_count": 152,
   "id": "18b0d9e1",
   "metadata": {},
   "outputs": [],
   "source": [
    "lre = torch.linspace(-3, 0, 1000)\n",
    "lrs = 10**lre"
   ]
  },
  {
   "cell_type": "code",
   "execution_count": 163,
   "id": "2ae25b1b",
   "metadata": {},
   "outputs": [],
   "source": [
    "lri = []\n",
    "lossi = []\n",
    "for i in range(10000):\n",
    "    \n",
    "    # create mini-batch\n",
    "    idx = torch.randint(0, X.shape[0], (35,))\n",
    "    \n",
    "    # forward pass\n",
    "    emb = C[X[idx]] # create embeddings of shape (35, 3, 2)\n",
    "\n",
    "    h = torch.tanh(emb.view(-1, 6) @ W1 + b1) # output of first layer of shape (35, 100)\n",
    "    logits = h @ W2 + b2 # output of second layer of shape (35, 27)\n",
    "\n",
    "    loss = F.cross_entropy(logits, Y[idx]) # use cross entropy as loss function\n",
    "    #print(loss.item())    \n",
    "\n",
    "    # backward pass\n",
    "    for p in params:\n",
    "        p.grad = None\n",
    "\n",
    "    loss.backward()\n",
    "    \n",
    "    # update\n",
    "    # lr = lrs[i]\n",
    "    lr = 10**-1.5\n",
    "    for p in params:\n",
    "        p.data +=  -lr * p.grad\n",
    "        \n",
    "    # track stats\n",
    "    # lri.append(lre[i])\n",
    "    # lossi.append(loss.item())\n",
    "\n",
    "#print(loss.item())"
   ]
  },
  {
   "cell_type": "code",
   "execution_count": 164,
   "id": "d01e5c2c",
   "metadata": {},
   "outputs": [
    {
     "data": {
      "text/plain": [
       "1.5440661907196045"
      ]
     },
     "execution_count": 164,
     "metadata": {},
     "output_type": "execute_result"
    }
   ],
   "source": [
    "# forward pass\n",
    "emb = C[X] # create embeddings on entire set\n",
    "\n",
    "h = torch.tanh(emb.view(-1, 6) @ W1 + b1) # output of first layer of shape (35, 100)\n",
    "logits = h @ W2 + b2 # output of second layer of shape (35, 27)\n",
    "\n",
    "loss = F.cross_entropy(logits, Y) # use cross entropy as loss function\n",
    "loss.item()"
   ]
  },
  {
   "cell_type": "markdown",
   "id": "863168b0",
   "metadata": {},
   "source": [
    "# Dataset Splitting and Model Training"
   ]
  },
  {
   "cell_type": "code",
   "execution_count": 264,
   "id": "6b3043b7",
   "metadata": {},
   "outputs": [
    {
     "name": "stdout",
     "output_type": "stream",
     "text": [
      "TRAIN:  torch.Size([11861, 3]) torch.Size([11861])\n",
      "DEV:  torch.Size([1487, 3]) torch.Size([1487])\n",
      "TEST:  torch.Size([1508, 3]) torch.Size([1508])\n"
     ]
    }
   ],
   "source": [
    "# dataset splitting into train(80%), dev/validation(10%), test(10%)\n",
    "# train is used to train parameters\n",
    "# dev/validation is used to train hyperparameters\n",
    "# test is used to evaluate the model\n",
    "train, dev, test = torch.utils.data.random_split(dinosaurs, [0.8, 0.1, 0.1], generator=g)\n",
    "\n",
    "# function to create inputs and outputs from dataset\n",
    "def build_dataset(dataset):\n",
    "    X, Y = [], []\n",
    "    for d in dataset:\n",
    "        context = [0] * block_size # create context 'window'\n",
    "        for char in d + '.':\n",
    "            idx = stoi[char] # get current character index\n",
    "\n",
    "            X.append(context) # add current context to inputs\n",
    "            Y.append(idx) # add current index to label\n",
    "            context = context[1:] + [idx] # slide context 'window'\n",
    "            \n",
    "    X = torch.tensor(X)\n",
    "    Y = torch.tensor(Y)\n",
    "    return X,Y\n",
    "    \n",
    "\n",
    "# defining training inputs and labels\n",
    "Xtr, Ytr = build_dataset(train)\n",
    "print(\"TRAIN: \", Xtr.shape, Ytr.shape)\n",
    "\n",
    "# defining validation inputs and labels\n",
    "Xdev, Ydev = build_dataset(dev)\n",
    "print(\"DEV: \", Xdev.shape, Ydev.shape)\n",
    "\n",
    "# defining test inputs and labels\n",
    "Xte, Yte = build_dataset(test)\n",
    "print(\"TEST: \", Xte.shape, Yte.shape)"
   ]
  },
  {
   "cell_type": "code",
   "execution_count": 265,
   "id": "d1ecaf45",
   "metadata": {},
   "outputs": [
    {
     "name": "stdout",
     "output_type": "stream",
     "text": [
      "# of parameters:  11897\n"
     ]
    }
   ],
   "source": [
    "g = torch.Generator().manual_seed(42) # create a generator object for reproducability\n",
    "\n",
    "C = torch.randn((27,10), generator=g) # create a lookup table\n",
    "\n",
    "W1 = torch.randn((30,200), generator=g) # first weights matrix (30 inputs, 200 outputs)\n",
    "b1 = torch.randn(200, generator=g) # first bias\n",
    "\n",
    "W2 = torch.randn((200,27), generator=g) # second weights matrix (200 inputs, 27 outputs)\n",
    "b2 = torch.randn(27, generator=g) # second bias\n",
    "\n",
    "params = [C,W1,b1,W2,b2]\n",
    "print(\"# of parameters: \", sum(p.nelement() for p in params))"
   ]
  },
  {
   "cell_type": "code",
   "execution_count": 266,
   "id": "327407f3",
   "metadata": {},
   "outputs": [],
   "source": [
    "for p in params:\n",
    "    p.requires_grad = True"
   ]
  },
  {
   "cell_type": "code",
   "execution_count": 267,
   "id": "36bbb173",
   "metadata": {},
   "outputs": [],
   "source": [
    "lre = torch.linspace(-3, 0, 1000)\n",
    "lrs = 10**lre"
   ]
  },
  {
   "cell_type": "code",
   "execution_count": 268,
   "id": "35a5de69",
   "metadata": {},
   "outputs": [],
   "source": [
    "lri = []\n",
    "lossi = []\n",
    "stepi = []"
   ]
  },
  {
   "cell_type": "code",
   "execution_count": 270,
   "id": "e63f1743",
   "metadata": {},
   "outputs": [],
   "source": [
    "for i in range(200000):\n",
    "    \n",
    "    # create mini-batch\n",
    "    idx = torch.randint(0, Xtr.shape[0], (35,))\n",
    "    \n",
    "    # forward pass\n",
    "    emb = C[Xtr[idx]] # create embeddings of shape (35, 3, 2)\n",
    "\n",
    "    h = torch.tanh(emb.view(-1, 30) @ W1 + b1) # output of first layer of shape (35, 200)\n",
    "    logits = h @ W2 + b2 # output of second layer of shape (35, 27)\n",
    "\n",
    "    loss = F.cross_entropy(logits, Ytr[idx]) # use cross entropy as loss function\n",
    "    #print(loss.item())    \n",
    "\n",
    "    # backward pass\n",
    "    for p in params:\n",
    "        p.grad = None\n",
    "\n",
    "    loss.backward()\n",
    "    \n",
    "    # update\n",
    "    # lr = lrs[i]\n",
    "    lr=10**-0.5 if i < 100000 else 10**-1.5\n",
    "    for p in params:\n",
    "        p.data +=  -lr * p.grad\n",
    "        \n",
    "    # track stats\n",
    "    # lri.append(lre[i])\n",
    "    lossi.append(loss.log10().item())\n",
    "    stepi.append(i)\n",
    "\n",
    "#print(loss.item())"
   ]
  },
  {
   "cell_type": "code",
   "execution_count": 271,
   "id": "bb3bc97f",
   "metadata": {
    "scrolled": true
   },
   "outputs": [
    {
     "data": {
      "text/plain": [
       "[<matplotlib.lines.Line2D at 0x125afeb90>]"
      ]
     },
     "execution_count": 271,
     "metadata": {},
     "output_type": "execute_result"
    },
    {
     "data": {
      "image/png": "[encoded data removed]",
      "text/plain": [
       "<Figure size 640x480 with 1 Axes>"
      ]
     },
     "metadata": {},
     "output_type": "display_data"
    }
   ],
   "source": [
    "plt.plot(stepi, lossi)"
   ]
  },
  {
   "cell_type": "code",
   "execution_count": 272,
   "id": "b95b8be0",
   "metadata": {},
   "outputs": [
    {
     "data": {
      "text/plain": [
       "0.9647422432899475"
      ]
     },
     "execution_count": 272,
     "metadata": {},
     "output_type": "execute_result"
    }
   ],
   "source": [
    "# forward pass\n",
    "emb = C[Xtr] # create embeddings on entire set\n",
    "\n",
    "h = torch.tanh(emb.view(-1, 30) @ W1 + b1) # output of first layer of shape (35, 200)\n",
    "logits = h @ W2 + b2 # output of second layer of shape (35, 27)\n",
    "\n",
    "loss = F.cross_entropy(logits, Ytr) # use cross entropy as loss function\n",
    "loss.item()"
   ]
  },
  {
   "cell_type": "code",
   "execution_count": 273,
   "id": "b7737114",
   "metadata": {},
   "outputs": [
    {
     "data": {
      "text/plain": [
       "3.0291054248809814"
      ]
     },
     "execution_count": 273,
     "metadata": {},
     "output_type": "execute_result"
    }
   ],
   "source": [
    "# forward pass\n",
    "emb = C[Xdev] # create embeddings on entire set\n",
    "\n",
    "h = torch.tanh(emb.view(-1, 30) @ W1 + b1) # output of first layer of shape (35, 200)\n",
    "logits = h @ W2 + b2 # output of second layer of shape (35, 27)\n",
    "\n",
    "loss = F.cross_entropy(logits, Ydev) # use cross entropy as loss function\n",
    "loss.item()"
   ]
  },
  {
   "cell_type": "code",
   "execution_count": 275,
   "id": "b669e5ff",
   "metadata": {},
   "outputs": [
    {
     "name": "stdout",
     "output_type": "stream",
     "text": [
      "padilokesaurus.\n",
      "cratops.\n",
      "gentinisaurus.\n",
      "chuangosaurus.\n",
      "gracoxa.\n"
     ]
    }
   ],
   "source": [
    "# sample from model\n",
    "for _ in range(5):\n",
    "    out = [] # output array\n",
    "    context = [0] * block_size # context 'window'\n",
    "    \n",
    "    while True:\n",
    "        emb = C[torch.tensor([context])] # get embeddings from context and lookup table\n",
    "        \n",
    "        h = torch.tanh(emb.view(1,-1) @ W1 + b1) # first layer: tanh\n",
    "        logits = h @ W2 + b2 # second layer: linear\n",
    "        probs = F.softmax(logits, dim=1) # softmax to get probabilites\n",
    "        \n",
    "        idx = torch.multinomial(probs, num_samples=1, generator=g).item() # get next predicted letter\n",
    "        context = context[1:] + [idx] # slide the context 'window'\n",
    "        out.append(idx) # append the new letter to the output\n",
    "        \n",
    "        # if the character is '.' then end the word\n",
    "        if idx == 0:\n",
    "            break\n",
    "    \n",
    "    print(''.join(itos[i] for i in out))"
   ]
  },
  {
   "cell_type": "markdown",
   "id": "907623f8",
   "metadata": {},
   "source": [
    "### Compared to the Bigram and Trigram models, it is clear that the MLP (even with only two layers) creates much better dinosaur names!"
   ]
  },
  {
   "cell_type": "markdown",
   "id": "3f8fb825",
   "metadata": {},
   "source": [
    "# Tuning the Model"
   ]
  },
  {
   "cell_type": "code",
   "execution_count": 289,
   "id": "fb08da78",
   "metadata": {},
   "outputs": [
    {
     "name": "stdout",
     "output_type": "stream",
     "text": [
      "# of parameters:  11270\n"
     ]
    }
   ],
   "source": [
    "g = torch.Generator().manual_seed(42) # create a generator object for reproducability\n",
    "\n",
    "C = torch.randn((27,9), generator=g) # create a lookup table\n",
    "\n",
    "W1 = torch.randn((27,200), generator=g) # first weights matrix (27 inputs, 200 outputs)\n",
    "b1 = torch.randn(200, generator=g) # first bias\n",
    "\n",
    "W2 = torch.randn((200,27), generator=g) # second weights matrix (200 inputs, 27 outputs)\n",
    "b2 = torch.randn(27, generator=g) # second bias\n",
    "\n",
    "params = [C,W1,b1,W2,b2]\n",
    "print(\"# of parameters: \", sum(p.nelement() for p in params))"
   ]
  },
  {
   "cell_type": "code",
   "execution_count": 290,
   "id": "20af8709",
   "metadata": {},
   "outputs": [],
   "source": [
    "for p in params:\n",
    "    p.requires_grad = True"
   ]
  },
  {
   "cell_type": "code",
   "execution_count": 291,
   "id": "b20d4282",
   "metadata": {},
   "outputs": [],
   "source": [
    "lre = torch.linspace(-3, 0, 1000)\n",
    "lrs = 10**lre"
   ]
  },
  {
   "cell_type": "code",
   "execution_count": 292,
   "id": "39209070",
   "metadata": {},
   "outputs": [],
   "source": [
    "lri = []\n",
    "lossi = []\n",
    "stepi = []"
   ]
  },
  {
   "cell_type": "code",
   "execution_count": 293,
   "id": "10b7633f",
   "metadata": {},
   "outputs": [],
   "source": [
    "for i in range(50000):\n",
    "    \n",
    "    # create mini-batch\n",
    "    idx = torch.randint(0, Xtr.shape[0], (50,))\n",
    "    \n",
    "    # forward pass\n",
    "    emb = C[Xtr[idx]] # create embeddings of shape (50, 3, 2)\n",
    "\n",
    "    h = torch.tanh(emb.view(-1, 27) @ W1 + b1) # output of first layer of shape (50, 200)\n",
    "    logits = h @ W2 + b2 # output of second layer of shape (50, 27)\n",
    "\n",
    "    loss = F.cross_entropy(logits, Ytr[idx]) # use cross entropy as loss function\n",
    "    #print(loss.item())    \n",
    "\n",
    "    # backward pass\n",
    "    for p in params:\n",
    "        p.grad = None\n",
    "\n",
    "    loss.backward()\n",
    "    \n",
    "    # update\n",
    "    # lr = lrs[i]\n",
    "    lr=10**-0.5 if i < 25000 else 10**-1.5\n",
    "    for p in params:\n",
    "        p.data +=  -lr * p.grad\n",
    "        \n",
    "    # track stats\n",
    "    # lri.append(lre[i])\n",
    "    lossi.append(loss.log10().item())\n",
    "    stepi.append(i)\n",
    "\n",
    "#print(loss.item())"
   ]
  },
  {
   "cell_type": "code",
   "execution_count": 294,
   "id": "91aa80ab",
   "metadata": {
    "scrolled": true
   },
   "outputs": [
    {
     "data": {
      "text/plain": [
       "[<matplotlib.lines.Line2D at 0x1254ba680>]"
      ]
     },
     "execution_count": 294,
     "metadata": {},
     "output_type": "execute_result"
    },
    {
     "data": {
      "image/png": "[encoded data removed]",
      "text/plain": [
       "<Figure size 640x480 with 1 Axes>"
      ]
     },
     "metadata": {},
     "output_type": "display_data"
    }
   ],
   "source": [
    "plt.plot(stepi, lossi)"
   ]
  },
  {
   "cell_type": "code",
   "execution_count": 295,
   "id": "430f6a45",
   "metadata": {},
   "outputs": [
    {
     "data": {
      "text/plain": [
       "1.0062944889068604"
      ]
     },
     "execution_count": 295,
     "metadata": {},
     "output_type": "execute_result"
    }
   ],
   "source": [
    "# forward pass\n",
    "emb = C[Xtr] # create embeddings on entire set\n",
    "\n",
    "h = torch.tanh(emb.view(-1, 27) @ W1 + b1) # output of first layer of shape (50, 100)\n",
    "logits = h @ W2 + b2 # output of second layer of shape (50, 27)\n",
    "\n",
    "loss = F.cross_entropy(logits, Ytr) # use cross entropy as loss function\n",
    "loss.item()"
   ]
  },
  {
   "cell_type": "code",
   "execution_count": 296,
   "id": "d04b786b",
   "metadata": {},
   "outputs": [
    {
     "data": {
      "text/plain": [
       "2.459195137023926"
      ]
     },
     "execution_count": 296,
     "metadata": {},
     "output_type": "execute_result"
    }
   ],
   "source": [
    "# forward pass\n",
    "emb = C[Xdev] # create embeddings on entire set\n",
    "\n",
    "h = torch.tanh(emb.view(-1, 27) @ W1 + b1) # output of first layer of shape (50, 100)\n",
    "logits = h @ W2 + b2 # output of second layer of shape (50, 27)\n",
    "\n",
    "loss = F.cross_entropy(logits, Ydev) # use cross entropy as loss function\n",
    "loss.item()"
   ]
  },
  {
   "cell_type": "code",
   "execution_count": 297,
   "id": "a3dfc13d",
   "metadata": {},
   "outputs": [
    {
     "name": "stdout",
     "output_type": "stream",
     "text": [
      "cryongasaurus.\n",
      "alamosaurus.\n",
      "ruelanosaurus.\n",
      "pelta.\n",
      "dinoplioceratops.\n"
     ]
    }
   ],
   "source": [
    "# sample from model\n",
    "for _ in range(5):\n",
    "    out = [] # output array\n",
    "    context = [0] * block_size # context 'window'\n",
    "    \n",
    "    while True:\n",
    "        emb = C[torch.tensor([context])] # get embeddings from context and lookup table\n",
    "        \n",
    "        h = torch.tanh(emb.view(1,-1) @ W1 + b1) # first layer: tanh\n",
    "        logits = h @ W2 + b2 # second layer: linear\n",
    "        probs = F.softmax(logits, dim=1) # softmax to get probabilites\n",
    "        \n",
    "        idx = torch.multinomial(probs, num_samples=1, generator=g).item() # get next predicted letter\n",
    "        context = context[1:] + [idx] # slide the context 'window'\n",
    "        out.append(idx) # append the new letter to the output\n",
    "        \n",
    "        # if the character is '.' then end the word\n",
    "        if idx == 0:\n",
    "            break\n",
    "    \n",
    "    print(''.join(itos[i] for i in out))"
   ]
  },
  {
   "cell_type": "markdown",
   "id": "ba1a9762",
   "metadata": {},
   "source": [
    "### After further tuning, the dev loss dropped down to a 2.46 from 3.03, and the resulting dinosaur names are even better! "
   ]
  }
 ],
 "metadata": {
  "kernelspec": {
   "display_name": "DinoNames (env)",
   "language": "python",
   "name": "env"
  },
  "language_info": {
   "codemirror_mode": {
    "name": "ipython",
    "version": 3
   },
   "file_extension": ".py",
   "mimetype": "text/x-python",
   "name": "python",
   "nbconvert_exporter": "python",
   "pygments_lexer": "ipython3",
   "version": "3.10.7"
  }
 },
 "nbformat": 4,
 "nbformat_minor": 5
}
