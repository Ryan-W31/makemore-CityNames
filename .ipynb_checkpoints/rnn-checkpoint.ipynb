{
 "cells": [
  {
   "cell_type": "code",
   "execution_count": 55,
   "id": "cf7f2031",
   "metadata": {},
   "outputs": [],
   "source": [
    "import pandas as pd\n",
    "import random\n",
    "import torch\n",
    "import torch.nn.functional as F\n",
    "import matplotlib.pyplot as plt\n",
    "%matplotlib inline"
   ]
  },
  {
   "cell_type": "markdown",
   "id": "77cc5485",
   "metadata": {},
   "source": [
    "# Dataset Exploration and Modification"
   ]
  },
  {
   "cell_type": "code",
   "execution_count": 56,
   "id": "cd68aa15",
   "metadata": {},
   "outputs": [
    {
     "data": {
      "text/plain": [
       "['lexovisaurus', 'pawpawsaurus', 'alnashetri', 'alectrosaurus', 'coelurus']"
      ]
     },
     "execution_count": 56,
     "metadata": {},
     "output_type": "execute_result"
    }
   ],
   "source": [
    "# read in dinosaur.csv and modify input so that the list only contains lowercase dinosaur names with no whitespace\n",
    "dinosaur_csv = pd.read_csv('dinosaur.csv')\n",
    "dinosaurs = dinosaur_csv['Name'].tolist()\n",
    "dinosaurs = [d.lower().strip() for d in dinosaurs]\n",
    "random.shuffle(dinosaurs)\n",
    "dinosaurs[:5]"
   ]
  },
  {
   "cell_type": "code",
   "execution_count": 57,
   "id": "cbc18615",
   "metadata": {},
   "outputs": [
    {
     "data": {
      "text/plain": [
       "1152"
      ]
     },
     "execution_count": 57,
     "metadata": {},
     "output_type": "execute_result"
    }
   ],
   "source": [
    "len(dinosaurs) # number of dinosaur names"
   ]
  },
  {
   "cell_type": "code",
   "execution_count": 58,
   "id": "deb99926",
   "metadata": {},
   "outputs": [
    {
     "name": "stdout",
     "output_type": "stream",
     "text": [
      "27\n",
      "stoi:  {'a': 1, 'b': 2, 'c': 3, 'd': 4, 'e': 5, 'f': 6, 'g': 7, 'h': 8, 'i': 9, 'j': 10, 'k': 11, 'l': 12, 'm': 13, 'n': 14, 'o': 15, 'p': 16, 'q': 17, 'r': 18, 's': 19, 't': 20, 'u': 21, 'v': 22, 'w': 23, 'x': 24, 'y': 25, 'z': 26, '.': 0}\n",
      "itos:  {1: 'a', 2: 'b', 3: 'c', 4: 'd', 5: 'e', 6: 'f', 7: 'g', 8: 'h', 9: 'i', 10: 'j', 11: 'k', 12: 'l', 13: 'm', 14: 'n', 15: 'o', 16: 'p', 17: 'q', 18: 'r', 19: 's', 20: 't', 21: 'u', 22: 'v', 23: 'w', 24: 'x', 25: 'y', 26: 'z', 0: '.'}\n"
     ]
    }
   ],
   "source": [
    "chars = sorted(list(set(''.join(dinosaurs)))) # sort letter alphabetically with no repeating letters\n",
    "stoi = {s:i+1 for i, s in enumerate(chars)} # create a mapping of chars to integers\n",
    "stoi['.'] = 0 # add special start and end character\n",
    "\n",
    "itos = {i:s for s,i in stoi.items()} # create a integer to char mapping\n",
    "vocab_size = len(itos)\n",
    "print(vocab_size)\n",
    "print(\"stoi: \",  stoi)\n",
    "print(\"itos: \", itos)"
   ]
  },
  {
   "cell_type": "code",
   "execution_count": 108,
   "id": "0ce2ced4",
   "metadata": {},
   "outputs": [
    {
     "name": "stdout",
     "output_type": "stream",
     "text": [
      "TRAIN:  torch.Size([11914, 8]) torch.Size([11914])\n",
      "DEV:  torch.Size([1490, 8]) torch.Size([1490])\n",
      "TEST:  torch.Size([1452, 8]) torch.Size([1452])\n"
     ]
    }
   ],
   "source": [
    "# dataset splitting into train(80%), dev/validation(10%), test(10%)\n",
    "# train is used to train parameters\n",
    "# dev/validation is used to train hyperparameters\n",
    "# test is used to evaluate the model\n",
    "\n",
    "g = torch.Generator().manual_seed(42)\n",
    "train, dev, test = torch.utils.data.random_split(dinosaurs, [0.8, 0.1, 0.1], generator=g)\n",
    "\n",
    "block_size = 8\n",
    "\n",
    "# function to create inputs and outputs from dataset\n",
    "def build_dataset(dataset):\n",
    "    X, Y = [], []\n",
    "    for d in dataset:\n",
    "        context = [0] * block_size # create context 'window'\n",
    "        for char in d + '.':\n",
    "            idx = stoi[char] # get current character index\n",
    "\n",
    "            X.append(context) # add current context to inputs\n",
    "            Y.append(idx) # add current index to label\n",
    "            context = context[1:] + [idx] # slide context 'window'\n",
    "            \n",
    "    X = torch.tensor(X)\n",
    "    Y = torch.tensor(Y)\n",
    "    return X,Y\n",
    "    \n",
    "\n",
    "# defining training inputs and labels\n",
    "Xtr, Ytr = build_dataset(train)\n",
    "print(\"TRAIN: \", Xtr.shape, Ytr.shape)\n",
    "\n",
    "# defining validation inputs and labels\n",
    "Xdev, Ydev = build_dataset(dev)\n",
    "print(\"DEV: \", Xdev.shape, Ydev.shape)\n",
    "\n",
    "# defining test inputs and labels\n",
    "Xte, Yte = build_dataset(test)\n",
    "print(\"TEST: \", Xte.shape, Yte.shape)"
   ]
  },
  {
   "cell_type": "code",
   "execution_count": 109,
   "id": "af72ef27",
   "metadata": {},
   "outputs": [
    {
     "name": "stdout",
     "output_type": "stream",
     "text": [
      "........ ===> l\n",
      ".......l ===> i\n",
      "......li ===> a\n",
      ".....lia ===> o\n",
      "....liao ===> n\n",
      "...liaon ===> i\n",
      "..liaoni ===> n\n",
      ".liaonin ===> g\n",
      "liaoning ===> o\n",
      "iaoningo ===> s\n",
      "aoningos ===> a\n",
      "oningosa ===> u\n",
      "ningosau ===> r\n",
      "ingosaur ===> u\n",
      "ngosauru ===> s\n",
      "gosaurus ===> .\n",
      "........ ===> a\n",
      ".......a ===> l\n",
      "......al ===> x\n",
      ".....alx ===> a\n"
     ]
    }
   ],
   "source": [
    "for x,y in zip(Xtr[:20], Ytr[:20]):\n",
    "    print(''.join(itos[ix.item()] for ix in x), '===>', itos[y.item()])"
   ]
  },
  {
   "cell_type": "markdown",
   "id": "fba6fde6",
   "metadata": {},
   "source": [
    "# PyTorch-ified Layers"
   ]
  },
  {
   "cell_type": "code",
   "execution_count": 110,
   "id": "f4b9484b",
   "metadata": {},
   "outputs": [],
   "source": [
    "# linear layer\n",
    "# -----------------------------------------------------------------------------\n",
    "class Linear:\n",
    "    \n",
    "    # initialize weight and bias (if bias is set to True)\n",
    "    def __init__(self, fan_in, fan_out, bias=True):\n",
    "        self.weight = torch.randn((fan_in, fan_out)) / fan_in**0.5 # using kaiming init\n",
    "        self.bias = torch.zeros(fan_out) if bias else None\n",
    "        \n",
    "    # when module is called, Wx + b will occur\n",
    "    def __call__(self, x):\n",
    "        self.out = x @ self.weight\n",
    "        if self.bias is not None:\n",
    "            self.out += self.bias\n",
    "        return self.out\n",
    "    \n",
    "    # function to return weight and bias tensors\n",
    "    def parameters(self):\n",
    "        return [self.weight] + ([] if self.bias is None else [self.bias])\n",
    "# -----------------------------------------------------------------------------\n",
    "\n",
    "\n",
    "# 1 dimensional batch normalization layer\n",
    "# -----------------------------------------------------------------------------\n",
    "class BatchNorm1d:\n",
    "    \n",
    "    # initialize batch norm parameters\n",
    "    def __init__(self, dim, eps=1e-5, momentum=0.1):\n",
    "        self.eps = eps\n",
    "        self.momentum = momentum\n",
    "        self.training = True\n",
    "        \n",
    "        # backprop parameters\n",
    "        self.gamma = torch.ones(dim)\n",
    "        self.beta = torch.zeros(dim)\n",
    "        \n",
    "        # buffers (running mean and std that trains with momentum)\n",
    "        self.running_mean = torch.zeros(dim)\n",
    "        self.running_var = torch.ones(dim)\n",
    "        \n",
    "    # when module is called, batch norm will occur\n",
    "    def __call__(self, x):\n",
    "        \n",
    "        # if training then take the batch mean and variance\n",
    "        if self.training:\n",
    "            xmean = x.mean(0, keepdim=True)\n",
    "            xvar = x.var(0, keepdim=True)\n",
    "            \n",
    "        # otherwise take the mean and variance over the whole dataset\n",
    "        else:\n",
    "            xmean = self.running_mean\n",
    "            xvar = self.running_var\n",
    "        \n",
    "        # calculate normalization\n",
    "        xhat = (x - xmean) / torch.sqrt(xvar + self.eps)\n",
    "        \n",
    "        # adjust normalization using gamma and beta\n",
    "        self.out = self.gamma * xhat + self.beta\n",
    "        \n",
    "        # if training update buffers\n",
    "        if self.training:\n",
    "            with torch.no_grad():\n",
    "                self.running_mean = (1 - self.momentum) * self.running_mean + self.momentum * xmean\n",
    "                self.running_var = (1 - self.momentum) * self.running_var + self.momentum * xvar\n",
    "                \n",
    "        return self.out\n",
    "    \n",
    "    # get batch norm gain and bias\n",
    "    def parameters(self):\n",
    "        return [self.gamma, self.beta]\n",
    "# -----------------------------------------------------------------------------\n",
    "\n",
    "# non-linear tanh activation function\n",
    "# -----------------------------------------------------------------------------\n",
    "class Tanh:\n",
    "    \n",
    "    # when module is called, a tanh function will occur\n",
    "    def __call__(self, x):\n",
    "        self.out = torch.tanh(x)\n",
    "        return self.out\n",
    "    \n",
    "    # tanh has no parameters so none are returned\n",
    "    def parameters(self):\n",
    "        return []\n",
    "# -----------------------------------------------------------------------------\n",
    "\n",
    "# character embedding layer\n",
    "# -----------------------------------------------------------------------------\n",
    "class Embedding:\n",
    "    \n",
    "    #initalize embedding parameters\n",
    "    def __init__(self, num_embeddings, embedding_dim):\n",
    "        self.weight = torch.randn((num_embeddings, embedding_dim))\n",
    "    \n",
    "    # when this module is called, character embedding will occur\n",
    "    def __call__(self, IX):\n",
    "        self.out = self.weight[IX]\n",
    "        return self.out\n",
    "    \n",
    "    # returns all parameters\n",
    "    def parameters(self):\n",
    "        return [self.weight]\n",
    "# -----------------------------------------------------------------------------\n",
    "\n",
    "# flattening (concatenation) layer\n",
    "# -----------------------------------------------------------------------------\n",
    "class Flatten:\n",
    "    # when this module is called, concatenation will occur\n",
    "    def __call__(self, x):\n",
    "        self.out = x.view(x.shape[0], -1)\n",
    "        return self.out\n",
    "    \n",
    "    # no parameters are returned\n",
    "    def parameters(self):\n",
    "        return []\n",
    "# -----------------------------------------------------------------------------\n",
    "\n",
    "# creating a sequence of layers\n",
    "# -----------------------------------------------------------------------------\n",
    "class Sequential:\n",
    "    def __init__(self, layers):\n",
    "        self.layers = layers\n",
    "    \n",
    "    def __call__(self, x):\n",
    "        for layer in self.layers:\n",
    "            x = layer(x)\n",
    "        self.out = x\n",
    "        return self.out\n",
    "    \n",
    "    def parameters(self):\n",
    "        return [p for layer in self.layers for p in layer.parameters()]"
   ]
  },
  {
   "cell_type": "code",
   "execution_count": 111,
   "id": "2f7111e9",
   "metadata": {},
   "outputs": [
    {
     "data": {
      "text/plain": [
       "<torch._C.Generator at 0x118a6eff0>"
      ]
     },
     "execution_count": 111,
     "metadata": {},
     "output_type": "execute_result"
    }
   ],
   "source": [
    "torch.manual_seed(42) # global rng seed"
   ]
  },
  {
   "cell_type": "code",
   "execution_count": 112,
   "id": "a619cc08",
   "metadata": {},
   "outputs": [
    {
     "name": "stdout",
     "output_type": "stream",
     "text": [
      "# of parameters: 20470\n"
     ]
    }
   ],
   "source": [
    "n_embed = 9 # dimensionality of character embedding vectors\n",
    "n_hidden = 200 # number of neurons in hidden layer\n",
    "\n",
    "# layers of the MLP network\n",
    "model = Sequential([\n",
    "    Embedding(vocab_size, n_embed),\n",
    "    Flatten(),\n",
    "    Linear(n_embed * block_size, n_hidden, bias=False), BatchNorm1d(n_hidden), Tanh(),\n",
    "    Linear(n_hidden, vocab_size),\n",
    "])\n",
    "\n",
    "with torch.no_grad():\n",
    "    # last layer: make less confident\n",
    "    model.layers[-1].weight *= 0.1\n",
    "\n",
    "parameters = model.parameters()\n",
    "# get all parameters (double list comprehension)\n",
    "print(f'# of parameters: {sum(p.nelement() for p in parameters)}')\n",
    "for p in parameters:\n",
    "    p.requires_grad = True"
   ]
  },
  {
   "cell_type": "code",
   "execution_count": null,
   "id": "fb52a741",
   "metadata": {},
   "outputs": [],
   "source": []
  },
  {
   "cell_type": "code",
   "execution_count": 114,
   "id": "977d66d4",
   "metadata": {},
   "outputs": [
    {
     "name": "stdout",
     "output_type": "stream",
     "text": [
      "0/50000: 3.2439\n",
      "10000/50000: 0.9611\n",
      "20000/50000: 0.6180\n",
      "30000/50000: 0.8309\n",
      "40000/50000: 0.4826\n"
     ]
    }
   ],
   "source": [
    "batch_size = 32\n",
    "max_steps=50000\n",
    "lossi=[]\n",
    "\n",
    "for i in range(max_steps):\n",
    "    \n",
    "    # create mini-batch\n",
    "    idx = torch.randint(0, Xtr.shape[0], (batch_size,))\n",
    "    Xb, Yb = Xtr[idx], Ytr[idx]\n",
    "    \n",
    "    # forward pass\n",
    "    logits = model(Xb)\n",
    "    loss = F.cross_entropy(logits, Yb)\n",
    "\n",
    "    # backward pass\n",
    "    for p in parameters:\n",
    "        p.grad = None\n",
    "    loss.backward()\n",
    "    \n",
    "    # update\n",
    "    lr = 0.1 if i < (max_steps/2) else 0.01 # learning rate decay\n",
    "    for p in parameters:\n",
    "        p.data +=  -lr * p.grad\n",
    "        \n",
    "    # track stats\n",
    "    if i % 10000 == 0:\n",
    "        print(f'{i}/{max_steps}: {loss.item():.4f}')\n",
    "    lossi.append(loss.log10().item())"
   ]
  },
  {
   "cell_type": "code",
   "execution_count": 115,
   "id": "82bbdfa6",
   "metadata": {
    "scrolled": false
   },
   "outputs": [
    {
     "data": {
      "text/plain": [
       "[<matplotlib.lines.Line2D at 0x120566110>]"
      ]
     },
     "execution_count": 115,
     "metadata": {},
     "output_type": "execute_result"
    },
    {
     "data": {
      "image/png": "[encoded data removed]",
      "text/plain": [
       "<Figure size 640x480 with 1 Axes>"
      ]
     },
     "metadata": {},
     "output_type": "display_data"
    }
   ],
   "source": [
    "plt.plot(torch.tensor(lossi).view(-1,250).mean(1))"
   ]
  },
  {
   "cell_type": "markdown",
   "id": "49615068",
   "metadata": {},
   "source": [
    "### Performance Log"
   ]
  },
  {
   "cell_type": "markdown",
   "id": "3b4f8310",
   "metadata": {},
   "source": [
    "Original: (block size: 3, 200 hidden neurons, 11.4k parameters) train: 1.10, dev: 1.80\\\n",
    "--> (block size: 8, 200 hidden neurons, 20.4k parameters) train: 0.64, dev: 2.11"
   ]
  },
  {
   "cell_type": "code",
   "execution_count": 116,
   "id": "fe5023f3",
   "metadata": {},
   "outputs": [],
   "source": [
    "for layer in model.layers:\n",
    "    layer.training = False"
   ]
  },
  {
   "cell_type": "code",
   "execution_count": 117,
   "id": "5052b848",
   "metadata": {},
   "outputs": [
    {
     "name": "stdout",
     "output_type": "stream",
     "text": [
      "train loss: 0.6408668756484985\n",
      "dev loss: 2.1128880977630615\n"
     ]
    }
   ],
   "source": [
    "@torch.no_grad()\n",
    "def dataset_loss(dataset):\n",
    "    x, y = {\n",
    "        'train': (Xtr, Ytr),\n",
    "        'dev': (Xdev, Ydev),\n",
    "        'test': (Xte, Yte),\n",
    "    }[dataset]\n",
    "    \n",
    "    logits = model(x)\n",
    "    loss = F.cross_entropy(logits, y) # use cross entropy as loss function\n",
    "    print(f'{dataset} loss: {loss.item()}')\n",
    "\n",
    "dataset_loss('train')\n",
    "dataset_loss('dev')"
   ]
  },
  {
   "cell_type": "code",
   "execution_count": 118,
   "id": "20c2524b",
   "metadata": {},
   "outputs": [
    {
     "name": "stdout",
     "output_type": "stream",
     "text": [
      "orthogoniosaurus.\n",
      "yuanmosaurus.\n",
      "qiuonannimus.\n",
      "orhhosalis.\n",
      "lacraptodacanos.\n"
     ]
    }
   ],
   "source": [
    "# sample from model\n",
    "for _ in range(5):\n",
    "    out = [] # output array\n",
    "    context = [0] * block_size # context 'window'\n",
    "    \n",
    "    while True:\n",
    "        logits = model(torch.tensor([context]))\n",
    "        probs = F.softmax(logits, dim=1)\n",
    "        idx = torch.multinomial(probs, num_samples=1).item() # get next predicted letter\n",
    "        context = context[1:] + [idx] # slide the context 'window'\n",
    "        out.append(idx) # append the new letter to the output\n",
    "        \n",
    "        # if the character is '.' then end the word\n",
    "        if idx == 0:\n",
    "            break\n",
    "    \n",
    "    print(''.join(itos[i] for i in out))"
   ]
  },
  {
   "cell_type": "code",
   "execution_count": null,
   "id": "90c3a5eb",
   "metadata": {},
   "outputs": [],
   "source": []
  }
 ],
 "metadata": {
  "kernelspec": {
   "display_name": "DinoNames (env)",
   "language": "python",
   "name": "env"
  },
  "language_info": {
   "codemirror_mode": {
    "name": "ipython",
    "version": 3
   },
   "file_extension": ".py",
   "mimetype": "text/x-python",
   "name": "python",
   "nbconvert_exporter": "python",
   "pygments_lexer": "ipython3",
   "version": "3.10.7"
  }
 },
 "nbformat": 4,
 "nbformat_minor": 5
}
