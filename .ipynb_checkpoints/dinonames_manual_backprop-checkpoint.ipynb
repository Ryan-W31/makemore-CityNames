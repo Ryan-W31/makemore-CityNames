{
 "cells": [
  {
   "cell_type": "code",
   "execution_count": 85,
   "id": "170d1007",
   "metadata": {},
   "outputs": [],
   "source": [
    "import pandas as pd\n",
    "import random\n",
    "import torch\n",
    "import torch.nn.functional as F\n",
    "import matplotlib.pyplot as plt\n",
    "%matplotlib inline"
   ]
  },
  {
   "cell_type": "markdown",
   "id": "582b823c",
   "metadata": {},
   "source": [
    "# Dataset Exploration and Modification"
   ]
  },
  {
   "cell_type": "code",
   "execution_count": 86,
   "id": "15bcf213",
   "metadata": {},
   "outputs": [
    {
     "data": {
      "text/plain": [
       "['magnirostris', 'parvicursor', 'borogovia', 'eocarcharia', 'wakinosaurus']"
      ]
     },
     "execution_count": 86,
     "metadata": {},
     "output_type": "execute_result"
    }
   ],
   "source": [
    "dinosaur_csv = pd.read_csv(\"dinosaur.csv\")\n",
    "dinosaurs = dinosaur_csv['Name'].tolist()\n",
    "dinosaurs = [d.lower().strip() for d in dinosaurs]\n",
    "random.shuffle(dinosaurs)\n",
    "dinosaurs[:5]"
   ]
  },
  {
   "cell_type": "code",
   "execution_count": 87,
   "id": "e40e9f31",
   "metadata": {},
   "outputs": [
    {
     "name": "stdout",
     "output_type": "stream",
     "text": [
      "27\n",
      "stoi:  {'a': 1, 'b': 2, 'c': 3, 'd': 4, 'e': 5, 'f': 6, 'g': 7, 'h': 8, 'i': 9, 'j': 10, 'k': 11, 'l': 12, 'm': 13, 'n': 14, 'o': 15, 'p': 16, 'q': 17, 'r': 18, 's': 19, 't': 20, 'u': 21, 'v': 22, 'w': 23, 'x': 24, 'y': 25, 'z': 26, '.': 0}\n",
      "itos:  {1: 'a', 2: 'b', 3: 'c', 4: 'd', 5: 'e', 6: 'f', 7: 'g', 8: 'h', 9: 'i', 10: 'j', 11: 'k', 12: 'l', 13: 'm', 14: 'n', 15: 'o', 16: 'p', 17: 'q', 18: 'r', 19: 's', 20: 't', 21: 'u', 22: 'v', 23: 'w', 24: 'x', 25: 'y', 26: 'z', 0: '.'}\n"
     ]
    }
   ],
   "source": [
    "chars = sorted(list(set(''.join(dinosaurs)))) # sort letter alphabetically with no repeating letters\n",
    "stoi = {s:i+1 for i, s in enumerate(chars)} # create a mapping of chars to integers\n",
    "stoi['.'] = 0 # add special start and end character\n",
    "\n",
    "itos = {i:s for s,i in stoi.items()} # create a integer to char mapping\n",
    "\n",
    "vocab_size = len(itos)\n",
    "print(vocab_size)\n",
    "print(\"stoi: \",  stoi)\n",
    "print(\"itos: \", itos)"
   ]
  },
  {
   "cell_type": "markdown",
   "id": "346e0899",
   "metadata": {},
   "source": [
    "# Dataset Initialization and Splitting"
   ]
  },
  {
   "cell_type": "code",
   "execution_count": 88,
   "id": "df490ba8",
   "metadata": {},
   "outputs": [
    {
     "name": "stdout",
     "output_type": "stream",
     "text": [
      "TRAIN:  torch.Size([11838, 3]) torch.Size([11838])\n",
      "DEV:  torch.Size([1518, 3]) torch.Size([1518])\n",
      "TEST:  torch.Size([1500, 3]) torch.Size([1500])\n"
     ]
    }
   ],
   "source": [
    "# for reproducibility\n",
    "g = torch.Generator().manual_seed(42)\n",
    "\n",
    "# dataset splitting into train(80%), dev/validation(10%), test(10%)\n",
    "# train is used to train parameters\n",
    "# dev/validation is used to train hyperparameters\n",
    "# test is used to evaluate the model\n",
    "train, dev, test = torch.utils.data.random_split(dinosaurs, [0.8, 0.1, 0.1], generator=g)\n",
    "\n",
    "block_size = 3 # number of characters needed to predict the next one\n",
    "\n",
    "# function to create inputs and outputs from dataset\n",
    "def build_dataset(dataset):\n",
    "    X, Y = [], []\n",
    "    for d in dataset:\n",
    "        context = [0] * block_size # create context 'window'\n",
    "        for char in d + '.':\n",
    "            idx = stoi[char] # get current character index\n",
    "\n",
    "            X.append(context) # add current context to inputs\n",
    "            Y.append(idx) # add current index to label\n",
    "            context = context[1:] + [idx] # slide context 'window'\n",
    "            \n",
    "    X = torch.tensor(X)\n",
    "    Y = torch.tensor(Y)\n",
    "    return X,Y\n",
    "    \n",
    "\n",
    "# defining training inputs and labels\n",
    "Xtr, Ytr = build_dataset(train)\n",
    "print(\"TRAIN: \", Xtr.shape, Ytr.shape)\n",
    "\n",
    "# defining validation inputs and labels\n",
    "Xdev, Ydev = build_dataset(dev)\n",
    "print(\"DEV: \", Xdev.shape, Ydev.shape)\n",
    "\n",
    "# defining test inputs and labels\n",
    "Xte, Yte = build_dataset(test)\n",
    "print(\"TEST: \", Xte.shape, Yte.shape)"
   ]
  },
  {
   "cell_type": "markdown",
   "id": "69d387be",
   "metadata": {},
   "source": [
    "# Compare Gradients"
   ]
  },
  {
   "cell_type": "code",
   "execution_count": 89,
   "id": "b4feabba",
   "metadata": {},
   "outputs": [],
   "source": [
    "# utility function to compare manual gradients to PyTorch gradients\n",
    "\n",
    "def cmp(s, dt, t): # dt are manual gradients; t.grad are PyTorch gradients\n",
    "    \n",
    "    ex = torch.all(dt == t.grad).item() # tensor that evaluates to true if the gradients are equal\n",
    "    \n",
    "    app = torch.allclose(dt, t.grad) # tensor that evaluates to true if the gradients are within 1e-05 to 1e-08\n",
    "    \n",
    "    maxdiff = (dt - t.grad).abs().max().item() # calculates the maximum difference between the gradients\n",
    "    \n",
    "    print(f'{s:15s} | exact: {str(ex):5s} | approximate: {str(app):5s} | maxdiff: {maxdiff}')"
   ]
  },
  {
   "cell_type": "markdown",
   "id": "d44de2dd",
   "metadata": {},
   "source": [
    "# Initialize Model"
   ]
  },
  {
   "cell_type": "code",
   "execution_count": 90,
   "id": "64927cf8",
   "metadata": {},
   "outputs": [
    {
     "name": "stdout",
     "output_type": "stream",
     "text": [
      "# of parameters:  4137\n"
     ]
    }
   ],
   "source": [
    "n_embed = 10 # dimensionality of charcter embedding vectors\n",
    "n_hidden = 64 # number of neurons in each hidden layer\n",
    "\n",
    "C = torch.randn((vocab_size, n_embed),             generator=g) # create a lookup table\n",
    "\n",
    "# layer 1\n",
    "W1 = torch.randn((n_embed * block_size ,n_hidden), generator=g) * (5/3) / ((n_embed * block_size)**0.5) # weights matrix\n",
    "b1 = torch.randn(n_hidden,                         generator=g) * 0.01 # b1 does nothing because of batch norm\n",
    "\n",
    "# layer 2\n",
    "W2 = torch.randn((n_hidden, vocab_size),           generator=g) * 0.01 # weights matrix\n",
    "b2 = torch.randn(vocab_size,                       generator=g) * 0.01 # bias\n",
    "\n",
    "# batch norm params\n",
    "batchn_gain = torch.randn((1, n_hidden)) * 0.1 + 1.0\n",
    "batchn_bias = torch.randn((1, n_hidden)) * 0.1\n",
    "\n",
    "\n",
    "params = [C,W1,b1,W2,b2,batchn_gain, batchn_bias]\n",
    "\n",
    "print(\"# of parameters: \", sum(p.nelement() for p in params))\n",
    "for p in params:\n",
    "    p.requires_grad = True"
   ]
  },
  {
   "cell_type": "code",
   "execution_count": 91,
   "id": "5601fbd2",
   "metadata": {},
   "outputs": [],
   "source": [
    "batch_size = 32\n",
    "n = batch_size # short variable for convenience\n",
    "idx = torch.randint(0, Xtr.shape[0], (n, ), generator=g)\n",
    "Xb, Yb = Xtr[idx], Ytr[idx] # batch X and Y"
   ]
  },
  {
   "cell_type": "markdown",
   "id": "a7970858",
   "metadata": {},
   "source": [
    "# Expanded Forward Pass "
   ]
  },
  {
   "cell_type": "code",
   "execution_count": 92,
   "id": "f1185fc1",
   "metadata": {},
   "outputs": [
    {
     "data": {
      "text/plain": [
       "3.2937469482421875"
      ]
     },
     "execution_count": 92,
     "metadata": {},
     "output_type": "execute_result"
    }
   ],
   "source": [
    "# forward pass (expanded because of manual backprop)\n",
    "\n",
    "emb = C[Xb] # get character embeddings\n",
    "emb_concat = emb.view(emb.shape[0], -1) # concat vectors\n",
    "\n",
    "# linear layer 1\n",
    "hprebn = emb_concat @ W1 + b1 # hidden layer pre-activation pre-batchnorm\n",
    "\n",
    "# batch norm layer (same as gamma * (x - mean) / (std) + beta)\n",
    "bnmeani = 1 / n * hprebn.sum(0, keepdims=True)\n",
    "bndiff = hprebn - bnmeani\n",
    "bndiff2 = bndiff**2\n",
    "bnvar = 1 / (n - 1) * bndiff2.sum(0, keepdims=True)\n",
    "bnvar_inv = (bnvar + 1e-5)**-0.5\n",
    "bnraw = bndiff * bnvar_inv\n",
    "hpreact = batchn_gain * bnraw + batchn_bias\n",
    "\n",
    "# non-linear activation function\n",
    "h = torch.tanh(hpreact) # hidden layer\n",
    "\n",
    "# linear layer 2\n",
    "logits = h @ W2 + b2 # output layer\n",
    "\n",
    "# cross entropy loss (same as F.cross_entropy(logits, Yb))\n",
    "logit_maxes = logits.max(1, keepdims=True).values\n",
    "norm_logits = logits - logit_maxes # subtract for exp stability. ex: [5, -3, 10] - 10 ==> [-5, -13, 0]\n",
    "counts = norm_logits.exp()\n",
    "counts_sum = counts.sum(1, keepdims=True)\n",
    "counts_sum_inv = counts_sum**-1\n",
    "probs = counts * counts_sum_inv\n",
    "logprobs = probs.log()\n",
    "loss = -logprobs[range(n), Yb].mean()\n",
    "\n",
    "# PyTorch backward pass\n",
    "for p in params:\n",
    "    p.grad = None\n",
    "for t in [ logprobs, probs, counts_sum_inv, counts_sum, counts, norm_logits, logit_maxes, logits, h,\n",
    "           hpreact, bnraw, bnvar_inv, bnvar, bndiff2, bndiff, bnmeani, hprebn, emb_concat, emb]:\n",
    "    t.retain_grad()\n",
    "loss.backward()\n",
    "loss.item()"
   ]
  },
  {
   "cell_type": "markdown",
   "id": "76fa7b0a",
   "metadata": {},
   "source": [
    "# Yay! Manual Backpropogation"
   ]
  },
  {
   "cell_type": "code",
   "execution_count": 93,
   "id": "26e2a7c9",
   "metadata": {},
   "outputs": [
    {
     "name": "stdout",
     "output_type": "stream",
     "text": [
      "logprobs        | exact: True  | approximate: True  | maxdiff: 0.0\n",
      "probs           | exact: True  | approximate: True  | maxdiff: 0.0\n",
      "counts_sum_inv  | exact: True  | approximate: True  | maxdiff: 0.0\n",
      "counts_sum      | exact: True  | approximate: True  | maxdiff: 0.0\n",
      "counts          | exact: True  | approximate: True  | maxdiff: 0.0\n",
      "norm_logits     | exact: True  | approximate: True  | maxdiff: 0.0\n",
      "logit_maxes     | exact: True  | approximate: True  | maxdiff: 0.0\n",
      "logits          | exact: True  | approximate: True  | maxdiff: 0.0\n",
      "h               | exact: True  | approximate: True  | maxdiff: 0.0\n",
      "W2              | exact: True  | approximate: True  | maxdiff: 0.0\n",
      "b2              | exact: True  | approximate: True  | maxdiff: 0.0\n",
      "hpreact         | exact: True  | approximate: True  | maxdiff: 0.0\n",
      "batchn_gain     | exact: True  | approximate: True  | maxdiff: 0.0\n",
      "bnraw           | exact: True  | approximate: True  | maxdiff: 0.0\n",
      "batchn_bias     | exact: True  | approximate: True  | maxdiff: 0.0\n",
      "bnvar_inv       | exact: True  | approximate: True  | maxdiff: 0.0\n",
      "bnvar           | exact: True  | approximate: True  | maxdiff: 0.0\n",
      "bndiff2         | exact: True  | approximate: True  | maxdiff: 0.0\n",
      "bndiff          | exact: True  | approximate: True  | maxdiff: 0.0\n",
      "bnmeani         | exact: True  | approximate: True  | maxdiff: 0.0\n",
      "hprebn          | exact: True  | approximate: True  | maxdiff: 0.0\n",
      "emb_concat      | exact: True  | approximate: True  | maxdiff: 0.0\n",
      "W1              | exact: True  | approximate: True  | maxdiff: 0.0\n",
      "b1              | exact: True  | approximate: True  | maxdiff: 0.0\n",
      "emb             | exact: True  | approximate: True  | maxdiff: 0.0\n",
      "C               | exact: True  | approximate: True  | maxdiff: 0.0\n",
      "yay!\n"
     ]
    }
   ],
   "source": [
    "# backprop through every variable in the forward pass manually\n",
    "\n",
    "# logprobs\n",
    "dlogprobs = torch.zeros_like(logprobs)\n",
    "dlogprobs[range(n), Yb] = -1.0 / n\n",
    "cmp('logprobs', dlogprobs, logprobs)\n",
    "\n",
    "# probs\n",
    "dprobs = (1.0 / probs) * dlogprobs\n",
    "cmp('probs', dprobs, probs)\n",
    "\n",
    "# counts_sum_inv\n",
    "dcounts_sum_inv = (counts * dprobs).sum(1, keepdims=True)\n",
    "dcounts = counts_sum_inv * dprobs\n",
    "cmp('counts_sum_inv', dcounts_sum_inv, counts_sum_inv)\n",
    "\n",
    "# counts_sum\n",
    "dcounts_sum = (-counts_sum**-2) * dcounts_sum_inv\n",
    "cmp('counts_sum', dcounts_sum, counts_sum)\n",
    "\n",
    "# counts\n",
    "dcounts += torch.ones_like(counts) * dcounts_sum\n",
    "cmp(\"counts\", dcounts, counts)\n",
    "\n",
    "# norm_logits\n",
    "dnorm_logits = counts * dcounts\n",
    "dlogits = dnorm_logits.clone()\n",
    "cmp(\"norm_logits\", dnorm_logits, norm_logits)\n",
    "\n",
    "# logit_maxes\n",
    "dlogit_maxes = (-dnorm_logits).sum(1, keepdims=True)\n",
    "cmp('logit_maxes', dlogit_maxes, logit_maxes)\n",
    "\n",
    "# logits (can also use one hot encoding)\n",
    "ones = torch.zeros_like(logits)\n",
    "ones[range(n), logits.max(1).indices] = 1\n",
    "dlogits +=  ones * dlogit_maxes\n",
    "cmp('logits', dlogits, logits)\n",
    "\n",
    "# h, W2, b2\n",
    "dh = dlogits @ W2.T\n",
    "dW2 = h.T @ dlogits\n",
    "db2 = dlogits.sum(0)\n",
    "cmp('h', dh, h)\n",
    "cmp('W2', dW2, W2)\n",
    "cmp('b2', db2, b2)\n",
    "\n",
    "# hpreact\n",
    "dhpreact = (1.0 - h**2) * dh\n",
    "cmp('hpreact', dhpreact, hpreact)\n",
    "\n",
    "# batchn_gain\n",
    "dbatchn_gain = (bnraw * dhpreact).sum(0, keepdims=True)\n",
    "cmp('batchn_gain', dbatchn_gain, batchn_gain)\n",
    "\n",
    "# bnraw\n",
    "dbnraw = batchn_gain * dhpreact\n",
    "cmp('bnraw', dbnraw, bnraw)\n",
    "\n",
    "# batchn_bias\n",
    "dbatchn_bias = dhpreact.sum(0, keepdims=True)\n",
    "cmp('batchn_bias', dbatchn_bias, batchn_bias)\n",
    "\n",
    "# bnvar_inv\n",
    "dbnvar_inv = (bndiff * dbnraw).sum(0, keepdims=True)\n",
    "dbndiff = bnvar_inv * dbnraw \n",
    "cmp('bnvar_inv', dbnvar_inv, bnvar_inv)\n",
    "\n",
    "# bnvar\n",
    "dbnvar = (-0.5 * (bnvar + 1e-5)**-1.5) * dbnvar_inv\n",
    "cmp('bnvar', dbnvar, bnvar)\n",
    "\n",
    "# bndiff2\n",
    "dbndiff2 = (1.0 / (n-1)) * torch.ones_like(bndiff2) * dbnvar\n",
    "cmp('bndiff2', dbndiff2, bndiff2)\n",
    "\n",
    "# bndiff\n",
    "dbndiff += (2 * bndiff) * dbndiff2\n",
    "cmp('bndiff', dbndiff, bndiff)\n",
    "\n",
    "# bnmeani\n",
    "dhprebn = dbndiff.clone()\n",
    "dbnmeani = (-dbndiff).sum(0, keepdims=True)\n",
    "cmp('bnmeani', dbnmeani, bnmeani)\n",
    "\n",
    "# hprebn\n",
    "dhprebn += (1.0 / n) * torch.ones_like(hprebn) * dbnmeani\n",
    "cmp('hprebn', dhprebn, hprebn)\n",
    "\n",
    "# emb_concat, W1, b1\n",
    "demb_concat = dhprebn @ W1.T\n",
    "dW1 = emb_concat.T @ dhprebn\n",
    "db1 = dhprebn.sum(0)\n",
    "cmp('emb_concat', demb_concat, emb_concat)\n",
    "cmp('W1', dW1, W1)\n",
    "cmp('b1', db1, b1)\n",
    "\n",
    "# emb\n",
    "demb = demb_concat.view(emb.shape)\n",
    "cmp('emb', demb, emb)\n",
    "\n",
    "# C\n",
    "dC = torch.zeros_like(C)\n",
    "for k in range(Xb.shape[0]):\n",
    "    for j in range (Xb.shape[1]):\n",
    "        idx = Xb[k,j]\n",
    "        dC[idx] += demb[k,j]\n",
    "cmp('C', dC, C)\n",
    "\n",
    "print(\"yay!\")"
   ]
  },
  {
   "cell_type": "markdown",
   "id": "73c39c7a",
   "metadata": {},
   "source": [
    "### This was way too much! Rather than backpropogating through every single step, lets optimize and do seperate parts of the forward pass"
   ]
  },
  {
   "cell_type": "markdown",
   "id": "51208cef",
   "metadata": {},
   "source": [
    "# Backprop Cross-Entropy"
   ]
  },
  {
   "cell_type": "code",
   "execution_count": 94,
   "id": "b1bc9f0f",
   "metadata": {},
   "outputs": [
    {
     "name": "stdout",
     "output_type": "stream",
     "text": [
      "3.2937474250793457 diff: 4.76837158203125e-07\n"
     ]
    }
   ],
   "source": [
    "# now lets backpropogate through the loss function (cross entropy) all in one go\n",
    "\n",
    "# forward pass\n",
    "\n",
    "# before:\n",
    "# logit_maxes = logits.max(1, keepdims=True).values\n",
    "# norm_logits = logits - logit_maxes\n",
    "# counts = norm_logits.exp()\n",
    "# counts_sum = counts.sum(1, keepdims=True)\n",
    "# counts_sum_inv = counts_sum**-1\n",
    "# probs = counts * counts_sum_inv\n",
    "# logprobs = probs.log()\n",
    "# loss = -logprobs[range(n), Yb].mean()\n",
    "\n",
    "# now:\n",
    "loss_ce = F.cross_entropy(logits, Yb)\n",
    "print(loss_ce.item(), \"diff:\", (loss_ce - loss).item())"
   ]
  },
  {
   "cell_type": "code",
   "execution_count": 95,
   "id": "bb5384ce",
   "metadata": {},
   "outputs": [
    {
     "name": "stdout",
     "output_type": "stream",
     "text": [
      "logits          | exact: False | approximate: True  | maxdiff: 6.6356733441352844e-09\n"
     ]
    }
   ],
   "source": [
    "# backward pass\n",
    "\n",
    "# before:\n",
    "# dlogprobs = torch.zeros_like(logprobs)\n",
    "# dlogprobs[range(n), Yb] = -1.0 / n\n",
    "# dprobs = (1.0 / probs) * dlogprobs\n",
    "# dcounts_sum_inv = (counts * dprobs).sum(1, keepdims=True)\n",
    "# dcounts = counts_sum_inv * dprobs\n",
    "# dcounts_sum = (-counts_sum**-2) * dcounts_sum_inv\n",
    "# dcounts += torch.ones_like(counts) * dcounts_sum\n",
    "# dnorm_logits = counts * dcounts\n",
    "# dlogits = dnorm_logits.clone()\n",
    "# dlogit_maxes = (-dnorm_logits).sum(1, keepdims=True)\n",
    "# ones = torch.zeros_like(logits)\n",
    "# ones[range(n), logits.max(1).indices] = 1\n",
    "# dlogits +=  ones * dlogit_maxes\n",
    "\n",
    "# now:\n",
    "dlogits = F.softmax(logits, 1)\n",
    "dlogits[range(n), Yb] -= 1\n",
    "dlogits /= n\n",
    "cmp('logits', dlogits, logits) # cannot get exact number but 5e-09 is very small"
   ]
  },
  {
   "cell_type": "code",
   "execution_count": 96,
   "id": "cc2252a3",
   "metadata": {},
   "outputs": [
    {
     "data": {
      "text/plain": [
       "<matplotlib.image.AxesImage at 0x11d072b00>"
      ]
     },
     "execution_count": 96,
     "metadata": {},
     "output_type": "execute_result"
    },
    {
     "data": {
      "image/png": "[encoded data removed]",
      "text/plain": [
       "<Figure size 800x800 with 1 Axes>"
      ]
     },
     "metadata": {},
     "output_type": "display_data"
    }
   ],
   "source": [
    "# a quick look at dlogits\n",
    "plt.figure(figsize=(8,8))\n",
    "plt.imshow(dlogits.detach(), cmap='gray') # black squares represent the index where we subtracted 1"
   ]
  },
  {
   "cell_type": "markdown",
   "id": "1321a62e",
   "metadata": {},
   "source": [
    "# Backprop BatchNorm"
   ]
  },
  {
   "cell_type": "code",
   "execution_count": 97,
   "id": "4089ce44",
   "metadata": {},
   "outputs": [
    {
     "name": "stdout",
     "output_type": "stream",
     "text": [
      "maxdiff: 1.4543533325195312e-05\n"
     ]
    }
   ],
   "source": [
    "# just like cross entropy, we will backpropogate through BatchNorm all in one go\n",
    "\n",
    "# forward pass\n",
    "\n",
    "# before: \n",
    "# bnmeani = 1 / n * hprebn.sum(0, keepdims=True)\n",
    "# bndiff = hprebn - bnmeani\n",
    "# bndiff2 = bndiff**2\n",
    "# bnvar = 1 / (n - 1) * bndiff2.sum(0, keepdims=True)\n",
    "# bnvar_inv = (bnvar + 1e-5)**-0.5\n",
    "# bnraw = bndiff * bnvar_inv\n",
    "# hpreact = batchn_gain * bnraw + batchn_bias\n",
    "\n",
    "# now:\n",
    "hpreact_bn = batchn_gain * (hprebn - hprebn.mean(0, keepdims=True)) / torch.sqrt(hprebn.var(0, keepdims=True, unbiased=True)) + batchn_bias\n",
    "print(\"maxdiff:\", (hpreact_bn - hpreact).abs().max().item())"
   ]
  },
  {
   "cell_type": "code",
   "execution_count": 98,
   "id": "34774a3e",
   "metadata": {},
   "outputs": [
    {
     "name": "stdout",
     "output_type": "stream",
     "text": [
      "hprebn          | exact: False | approximate: True  | maxdiff: 8.731149137020111e-11\n"
     ]
    }
   ],
   "source": [
    "# backward pass\n",
    "\n",
    "# before\n",
    "# dbnraw = batchn_gain * dhpreact\n",
    "# dbatchn_bias = dhpreact.sum(0, keepdims=True)\n",
    "# dbnvar_inv = (bndiff * dbnraw).sum(0, keepdims=True)\n",
    "# dbndiff = bnvar_inv * dbnraw \n",
    "# dbnvar = (-0.5 * (bnvar + 1e-5)**-1.5) * dbnvar_inv\n",
    "# dbndiff2 = (1.0 / (n-1)) * torch.ones_like(bndiff2) * dbnvar\n",
    "# dbndiff += (2 * bndiff) * dbndiff2\n",
    "# dhprebn = dbndiff.clone()\n",
    "# dbnmeani = (-dbndiff).sum(0, keepdims=True)\n",
    "# dhprebn += (1.0 / n) * torch.ones_like(hprebn) * dbnmeani\n",
    "\n",
    "# now:\n",
    "dhprebn = batchn_gain * bnvar_inv / n * (n * dhpreact - dhpreact.sum(0) - n / (n - 1) * bnraw * (dhpreact * bnraw).sum(0))\n",
    "cmp('hprebn', dhprebn, hprebn) # cannot get exact number but 8e-11 is very small"
   ]
  },
  {
   "cell_type": "markdown",
   "id": "b3ac8082",
   "metadata": {},
   "source": [
    "# Putting It All Together"
   ]
  },
  {
   "cell_type": "markdown",
   "id": "bb9745cb",
   "metadata": {},
   "source": [
    "### Now that we have the simplified backward pass of both the loss function and the batch norm layer, we can use them to train the MLP with our own  manual backward pass!"
   ]
  },
  {
   "cell_type": "code",
   "execution_count": 99,
   "id": "46308362",
   "metadata": {},
   "outputs": [
    {
     "name": "stdout",
     "output_type": "stream",
     "text": [
      "# of parameters:  5970\n",
      "      0/50000: 3.2774\n",
      "  10000/50000: 1.7703\n",
      "  20000/50000: 1.4480\n",
      "  30000/50000: 1.2554\n",
      "  40000/50000: 1.6469\n"
     ]
    }
   ],
   "source": [
    "# train MLP with manual backward pass\n",
    "\n",
    "# initialize\n",
    "n_embed = 9 # dimensionality of charcter embedding vectors\n",
    "n_hidden = 100 # number of neurons in each hidden layer\n",
    "\n",
    "g = torch.Generator().manual_seed(42)\n",
    "\n",
    "C = torch.randn((vocab_size, n_embed),             generator=g) # create a lookup table\n",
    "\n",
    "# layer 1\n",
    "W1 = torch.randn((n_embed * block_size ,n_hidden), generator=g) * (5/3) / ((n_embed * block_size)**0.5) # weights matrix\n",
    "b1 = torch.randn(n_hidden,                         generator=g) * 0.01 # b1 does nothing because of batch norm\n",
    "\n",
    "# layer 2\n",
    "W2 = torch.randn((n_hidden, vocab_size),           generator=g) * 0.01 # weights matrix\n",
    "b2 = torch.randn(vocab_size,                       generator=g) * 0.01 # bias\n",
    "\n",
    "# batch norm params\n",
    "batchn_gain = torch.randn((1, n_hidden)) * 0.1 + 1.0\n",
    "batchn_bias = torch.randn((1, n_hidden)) * 0.1\n",
    "\n",
    "\n",
    "params = [C,W1,b1,W2,b2,batchn_gain,batchn_bias]\n",
    "\n",
    "print(\"# of parameters: \", sum(p.nelement() for p in params))\n",
    "for p in params:\n",
    "    p.requires_grad = True\n",
    "    \n",
    "max_steps = 50000\n",
    "batch_size = 50\n",
    "n = batch_size # short variable for convenience\n",
    "lossi = []\n",
    "\n",
    "with torch.no_grad(): # since we will be computing backprop ourselves\n",
    "    for i in range(max_steps):\n",
    "    \n",
    "        # create batch\n",
    "        idx = torch.randint(0, Xtr.shape[0], (n, ), generator=g)\n",
    "        Xb, Yb = Xtr[idx], Ytr[idx] # batch X and Y\n",
    "        \n",
    "        # forward pass\n",
    "        emb = C[Xb] # get character embeddings\n",
    "        emb_concat = emb.view(emb.shape[0], -1) # concat vectors\n",
    "\n",
    "        # linear layer 1\n",
    "        hprebn = emb_concat @ W1 + b1 # hidden layer pre-activation pre-batchnorm\n",
    "\n",
    "        # batch norm layer (same as gamma * (x - mean) / (std) + beta)\n",
    "        bnmean = hprebn.mean(0, keepdims=True)\n",
    "        bnvar = hprebn.var(0, keepdims=True, unbiased=True)\n",
    "        bnvar_inv = (bnvar + 1e-5)**-0.5\n",
    "        bnraw = (hprebn - bnmean) * bnvar_inv\n",
    "        hpreact = batchn_gain * bnraw + batchn_bias\n",
    "\n",
    "        # non-linear activation function\n",
    "        h = torch.tanh(hpreact) # hidden layer\n",
    "\n",
    "        # linear layer 2\n",
    "        logits = h @ W2 + b2 # output layer\n",
    "\n",
    "        # cross entropy loss (same as F.cross_entropy(logits, Yb))\n",
    "        loss = F.cross_entropy(logits, Yb)\n",
    "\n",
    "        # PyTorch backward pass\n",
    "        for p in params:\n",
    "            p.grad = None\n",
    "        \n",
    "        # manual backprop\n",
    "        #----------------------------\n",
    "        # loss\n",
    "        dlogits = F.softmax(logits, 1)\n",
    "        dlogits[range(n), Yb] -= 1\n",
    "        dlogits /= n\n",
    "        \n",
    "        # linear layer 2\n",
    "        dh = dlogits @ W2.T\n",
    "        dW2 = h.T @ dlogits\n",
    "        db2 = dlogits.sum(0)\n",
    "        \n",
    "        # non-linear activation function\n",
    "        dhpreact = (1.0 - h**2) * dh\n",
    "        \n",
    "        # batch norm layer\n",
    "        dbatchn_gain = (bnraw * dhpreact).sum(0, keepdims=True)\n",
    "        dbatchn_bias = dhpreact.sum(0, keepdims=True)\n",
    "        dhprebn = batchn_gain * bnvar_inv / n * (n * dhpreact - dhpreact.sum(0) - n / (n - 1) * bnraw * (dhpreact * bnraw).sum(0))\n",
    "\n",
    "        # linear layer 1\n",
    "        demb_concat = dhprebn @ W1.T\n",
    "        dW1 = emb_concat.T @ dhprebn\n",
    "        db1 = dhprebn.sum(0)\n",
    "        \n",
    "        # embedding\n",
    "        demb = demb_concat.view(emb.shape)\n",
    "        dC = torch.zeros_like(C)\n",
    "        for k in range(Xb.shape[0]):\n",
    "            for j in range (Xb.shape[1]):\n",
    "                idx = Xb[k,j]\n",
    "                dC[idx] += demb[k,j]\n",
    "        grads = [dC, dW1, db1, dW2, db2, dbatchn_gain, dbatchn_bias]\n",
    "        #----------------------------\n",
    "        \n",
    "        \n",
    "        lr = 0.03 if i < (max_steps / 2) else 0.01\n",
    "        for p, grad in zip(params, grads):\n",
    "            p.data += -lr * grad\n",
    "            \n",
    "        if i % 10000 == 0:\n",
    "            print(f'{i:7d}/{max_steps}: {loss.item():.4f}')\n",
    "        lossi.append(loss.log10().item())\n",
    "        \n",
    "#         if i > 1000:\n",
    "#             break"
   ]
  },
  {
   "cell_type": "code",
   "execution_count": 100,
   "id": "06f8752c",
   "metadata": {},
   "outputs": [],
   "source": [
    "# calibrate batch norm at end of training\n",
    "with torch.no_grad():\n",
    "    # use training set\n",
    "    emb = C[Xtr]\n",
    "    emb_concat = emb.view(emb.shape[0], -1)\n",
    "    hpreact = emb_concat @ W1 + b1\n",
    "    \n",
    "    # mean and variance over entire set\n",
    "    bnmean = hpreact.mean(0, keepdims=True)\n",
    "    bnvar =  hpreact.var(0, keepdims=True, unbiased=True)"
   ]
  },
  {
   "cell_type": "code",
   "execution_count": 101,
   "id": "606d552c",
   "metadata": {},
   "outputs": [
    {
     "name": "stdout",
     "output_type": "stream",
     "text": [
      "train loss: 1.5563045740127563\n",
      "dev loss: 1.6935123205184937\n"
     ]
    }
   ],
   "source": [
    "@torch.no_grad()\n",
    "def dataset_loss(dataset):\n",
    "    x, y = {\n",
    "        'train': (Xtr, Ytr),\n",
    "        'dev': (Xdev, Ydev),\n",
    "        'test': (Xte, Yte),\n",
    "    }[dataset]\n",
    "    \n",
    "    emb = C[x] # create embedding of characters into vectors\n",
    "    emb_concat = emb.view(emb.shape[0], -1) # concetenate vectors\n",
    "\n",
    "    h_preact = emb_concat @ W1 + b1 # hidden layer pre-activation\n",
    "    h_preact = batchn_gain * (h_preact - bnmean) / bnvar + batchn_bias\n",
    "    h = torch.tanh(h_preact) # hidden layer\n",
    "    logits = h @ W2 + b2 # output layer\n",
    "\n",
    "    loss = F.cross_entropy(logits, y) # use cross entropy as loss function\n",
    "    print(f'{dataset} loss: {loss.item()}')\n",
    "\n",
    "dataset_loss('train')\n",
    "dataset_loss('dev')"
   ]
  },
  {
   "cell_type": "code",
   "execution_count": 111,
   "id": "f8ead071",
   "metadata": {},
   "outputs": [
    {
     "name": "stdout",
     "output_type": "stream",
     "text": [
      "cothetosaurus.\n",
      "tangosaurus.\n",
      "lunioraeosaurus.\n",
      "macheroleirhopre.\n",
      "alltitasaurus.\n"
     ]
    }
   ],
   "source": [
    "# sample from model\n",
    "for _ in range(5):\n",
    "    out = [] # output array\n",
    "    context = [0] * block_size # context 'window'\n",
    "    \n",
    "    while True:\n",
    "        emb = C[torch.tensor([context])] # get embeddings from context and lookup table\n",
    "        emb_concat = emb.view(emb.shape[0], -1)\n",
    "        \n",
    "        h_preact = emb_concat @ W1 + b1 # hidden layer pre-activation\n",
    "        h_preact = batchn_gain * (h_preact - bnmean) / bnvar + batchn_bias\n",
    "        h = torch.tanh(h_preact) # hidden layer\n",
    "        logits = h @ W2 + b2 # output layer\n",
    "        probs = F.softmax(logits, dim=1) # softmax to get probabilites\n",
    "        \n",
    "        idx = torch.multinomial(probs, num_samples=1, generator=g).item() # get next predicted letter\n",
    "        context = context[1:] + [idx] # slide the context 'window'\n",
    "        out.append(idx) # append the new letter to the output\n",
    "        \n",
    "        # if the character is '.' then end the word\n",
    "        if idx == 0:\n",
    "            break\n",
    "    \n",
    "    print(''.join(itos[i] for i in out))"
   ]
  }
 ],
 "metadata": {
  "kernelspec": {
   "display_name": "DinoNames (env)",
   "language": "python",
   "name": "env"
  },
  "language_info": {
   "codemirror_mode": {
    "name": "ipython",
    "version": 3
   },
   "file_extension": ".py",
   "mimetype": "text/x-python",
   "name": "python",
   "nbconvert_exporter": "python",
   "pygments_lexer": "ipython3",
   "version": "3.10.7"
  }
 },
 "nbformat": 4,
 "nbformat_minor": 5
}
